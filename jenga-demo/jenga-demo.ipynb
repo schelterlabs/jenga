{
 "cells": [
  {
   "cell_type": "markdown",
   "id": "renewable-expert",
   "metadata": {
    "slideshow": {
     "slide_type": "slide"
    }
   },
   "source": [
    "# JENGA \n",
    "\n",
    "A Framework to Study the Impact of Data Errors on the Predictions of Machine Learning Models\n",
    "\n",
    "- Sebastian Schelter (University of Amsterdam)\n",
    "- Tammo Rukat (Amazon)\n",
    "- Felix Biessmann (Einstein Center Berlin, Beuth University, Amazon)\n",
    "\n",
    "[https://github.com/schelterlabs/jenga](https://github.com/schelterlabs/jenga)"
   ]
  },
  {
   "cell_type": "markdown",
   "id": "arabic-disability",
   "metadata": {
    "slideshow": {
     "slide_type": "slide"
    }
   },
   "source": [
    "# Why?\n",
    "\n",
    "* Software systems are tested (Unit tests, integration tests, user tests, ...)\n",
    "* **ML Systems are difficult to test**\n",
    " * ML models depend on data \n",
    " * Real test data is limited, models overparametrized \n",
    "   * Google's underspecifiation paper ([D'Amour et al., 2020](https://arxiv.org/abs/2011.03395))\n",
    "   * Stochastic Parrots paper ([Bender et al., 2021](https://faculty.washington.edu/ebender/papers/Stochastic_Parrots.pdf))"
   ]
  },
  {
   "cell_type": "markdown",
   "id": "curious-missile",
   "metadata": {
    "slideshow": {
     "slide_type": "slide"
    }
   },
   "source": [
    "## ML Testing is becoming a thing\n",
    "\n",
    "![ML testing publications](figs/ml-testing-publications.png)\n",
    "[Zhang et al, Machine Learning Testing: Survey, Landscapes and Horizons, 2020](https://arxiv.org/pdf/1906.10742.pdf)"
   ]
  },
  {
   "cell_type": "markdown",
   "id": "bigger-binding",
   "metadata": {
    "slideshow": {
     "slide_type": "slide"
    }
   },
   "source": [
    "# How to test ML Systems?\n",
    "\n",
    "- A lot of data sets with convenient API ([OpenML, Vanschoren et al. 2014](https://dl.acm.org/doi/10.1145/2641190.2641198))\n",
    "- Data corruptions ([Schelter, Rukat, Biessmann, SIGMOD, 2020](https://dl.acm.org/doi/10.1145/3318464.3380604))\n",
    "\n",
    "Jenga leverages both to ensure:\n",
    "- automation\n",
    "- scalability\n",
    "- reproducibility"
   ]
  },
  {
   "cell_type": "markdown",
   "id": "collectible-flight",
   "metadata": {
    "slideshow": {
     "slide_type": "slide"
    }
   },
   "source": [
    "# Jenga's core API components:\n",
    "\n",
    "- Tasks:\n",
    "    - binary/multiclass classification\n",
    "    - regression\n",
    "- Corruptions:\n",
    "    - Text\n",
    "    - Images\n",
    "    - Tabular data\n",
    "- Evaluators:\n",
    "    - Applies corruptions and tests ML model on task\n"
   ]
  },
  {
   "cell_type": "markdown",
   "id": "opponent-treasure",
   "metadata": {
    "slideshow": {
     "slide_type": "slide"
    }
   },
   "source": [
    "# Jenga enables easy ML testing\n",
    "\n",
    "Example: Binary Classification on OpenML data set\n"
   ]
  },
  {
   "cell_type": "code",
   "execution_count": 1,
   "id": "gothic-jacksonville",
   "metadata": {
    "slideshow": {
     "slide_type": "skip"
    }
   },
   "outputs": [],
   "source": [
    "from jenga.tasks.openml import OpenMLBinaryClassificationTask\n",
    "from jenga.corruptions.generic import MissingValues\n",
    "from jenga.evaluation.corruption_impact import CorruptionImpactEvaluator\n",
    "\n",
    "import numpy as np"
   ]
  },
  {
   "cell_type": "markdown",
   "id": "passive-referral",
   "metadata": {
    "slideshow": {
     "slide_type": "slide"
    }
   },
   "source": [
    "First, let's instantiate a binary OpenML task (id 1471)"
   ]
  },
  {
   "cell_type": "code",
   "execution_count": 8,
   "id": "worst-mediterranean",
   "metadata": {
    "slideshow": {
     "slide_type": "fragment"
    }
   },
   "outputs": [
    {
     "name": "stdout",
     "output_type": "stream",
     "text": [
      "Baseline ROC/AUC score: 0.66617072988402\n"
     ]
    }
   ],
   "source": [
    "binary_task = OpenMLBinaryClassificationTask(1471)"
   ]
  },
  {
   "cell_type": "markdown",
   "id": "harmful-mattress",
   "metadata": {
    "slideshow": {
     "slide_type": "fragment"
    }
   },
   "source": [
    "Each task has a baseline model (here: simple sklearn pipeline)"
   ]
  },
  {
   "cell_type": "code",
   "execution_count": 8,
   "id": "compound-network",
   "metadata": {
    "slideshow": {
     "slide_type": "fragment"
    }
   },
   "outputs": [
    {
     "name": "stdout",
     "output_type": "stream",
     "text": [
      "Baseline ROC/AUC score: 0.66617072988402\n"
     ]
    }
   ],
   "source": [
    "binary_task_model = binary_task.fit_baseline_model()\n",
    "\n",
    "print(f\"Baseline ROC/AUC score: {binary_task.get_baseline_performance()}\")"
   ]
  },
  {
   "cell_type": "markdown",
   "id": "simple-factory",
   "metadata": {
    "slideshow": {
     "slide_type": "slide"
    }
   },
   "source": [
    "# Data Corruptions\n",
    "\n",
    "It's simple to extend Jenga's corruption API. \n",
    "\n",
    "These are already implemented:\n",
    "\n",
    "- For text: leetspeek\n",
    "- For images: standard augmentations\n",
    "- For structured data (tables):\n",
    " - missing data\n",
    "     - missing completely at random\n",
    "     - missing at random\n",
    "     - missing not at random\n",
    " - swapping columns\n",
    " - numerical data:\n",
    "     - additive Gaussian noise\n",
    "     - scaling"
   ]
  },
  {
   "cell_type": "markdown",
   "id": "southwest-worse",
   "metadata": {
    "slideshow": {
     "slide_type": "slide"
    }
   },
   "source": [
    "## Example: Missing values\n",
    "\n",
    "Let's replace 50% of all values in column V3 with NaNs"
   ]
  },
  {
   "cell_type": "code",
   "execution_count": 11,
   "id": "burning-somewhere",
   "metadata": {
    "slideshow": {
     "slide_type": "fragment"
    }
   },
   "outputs": [],
   "source": [
    "binary_task_corruption = MissingValues(column='V3', \n",
    "                                       fraction=0.5, \n",
    "                                       na_value=np.nan)"
   ]
  },
  {
   "cell_type": "markdown",
   "id": "adverse-bhutan",
   "metadata": {
    "slideshow": {
     "slide_type": "fragment"
    }
   },
   "source": [
    "Now let's evaluate our baseline model in the above task with the specified corruptions. \n",
    "\n",
    "We repeat the experiment 5 times to get robust statistics. "
   ]
  },
  {
   "cell_type": "code",
   "execution_count": 12,
   "id": "modular-pride",
   "metadata": {
    "slideshow": {
     "slide_type": "fragment"
    }
   },
   "outputs": [
    {
     "name": "stdout",
     "output_type": "stream",
     "text": [
      "0/5 (0.057767000000000124)\n"
     ]
    }
   ],
   "source": [
    "num_repetitions = 5\n",
    "\n",
    "binary_task_evaluator = CorruptionImpactEvaluator(binary_task)\n",
    "\n",
    "binary_task_results = binary_task_evaluator.evaluate(binary_task_model, \n",
    "                                                     num_repetitions, \n",
    "                                                     binary_task_corruption)"
   ]
  }
 ],
 "metadata": {
  "celltoolbar": "Slideshow",
  "kernelspec": {
   "display_name": "Python 3",
   "language": "python",
   "name": "python3"
  },
  "language_info": {
   "codemirror_mode": {
    "name": "ipython",
    "version": 3
   },
   "file_extension": ".py",
   "mimetype": "text/x-python",
   "name": "python",
   "nbconvert_exporter": "python",
   "pygments_lexer": "ipython3",
   "version": "3.7.9"
  }
 },
 "nbformat": 4,
 "nbformat_minor": 5
}

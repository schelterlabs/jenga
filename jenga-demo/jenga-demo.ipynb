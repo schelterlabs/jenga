{
 "cells": [
  {
   "cell_type": "markdown",
   "metadata": {
    "slideshow": {
     "slide_type": "slide"
    }
   },
   "source": [
    "# JENGA \n",
    "\n",
    "A Framework to Study the Impact of Data Errors on the Predictions of Machine Learning Models\n",
    "\n",
    "- Sebastian Schelter (University of Amsterdam)\n",
    "- Tammo Rukat (Amazon)\n",
    "- Felix Biessmann (Einstein Center Berlin, Beuth University, Amazon)\n",
    "\n",
    "[https://github.com/schelterlabs/jenga](https://github.com/schelterlabs/jenga)"
   ]
  },
  {
   "cell_type": "markdown",
   "metadata": {
    "slideshow": {
     "slide_type": "slide"
    }
   },
   "source": [
    "# Why?\n",
    "\n",
    "* Software systems are tested (Unit tests, integration tests, user tests, ...)\n",
    "* **ML applications are difficult to test**\n",
    " * ML models depend on data \n",
    " * Real test data is limited, models overparametrized \n",
    "   * Google's underspecifiation paper ([D'Amour et al., 2020](https://arxiv.org/abs/2011.03395))\n",
    "   * Stochastic Parrots paper ([Bender et al., 2021](https://faculty.washington.edu/ebender/papers/Stochastic_Parrots.pdf))"
   ]
  },
  {
   "cell_type": "markdown",
   "metadata": {
    "slideshow": {
     "slide_type": "slide"
    }
   },
   "source": [
    "## ML Testing is becoming a thing\n",
    "\n",
    "![ML testing publications](figs/ml-testing-publications.png)\n",
    "[Zhang et al, Machine Learning Testing: Survey, Landscapes and Horizons, 2020](https://arxiv.org/pdf/1906.10742.pdf)"
   ]
  },
  {
   "cell_type": "markdown",
   "metadata": {
    "slideshow": {
     "slide_type": "slide"
    }
   },
   "source": [
    "# How to test ML Systems?\n",
    "\n",
    "- A lot of data sets with convenient API ([OpenML, Vanschoren et al. 2014](https://dl.acm.org/doi/10.1145/2641190.2641198))\n",
    "- Data corruptions ([Schelter, Rukat, Biessmann, SIGMOD, 2020](https://dl.acm.org/doi/10.1145/3318464.3380604))\n",
    "\n",
    "Jenga leverages both to ensure:\n",
    "- automation\n",
    "- reproducibility"
   ]
  },
  {
   "cell_type": "markdown",
   "metadata": {
    "slideshow": {
     "slide_type": "slide"
    }
   },
   "source": [
    "# Jenga - Testing with data corruptions\n",
    "\n",
    "![Jenga flowchart](figs/workflow.png)\n",
    "\n"
   ]
  },
  {
   "cell_type": "markdown",
   "metadata": {
    "slideshow": {
     "slide_type": "slide"
    }
   },
   "source": [
    "# Jenga's core API components:\n",
    "\n",
    "- Tasks:\n",
    "    - binary/multiclass classification\n",
    "    - regression\n",
    "- Corruptions:\n",
    "    - Text\n",
    "    - Images\n",
    "    - Tabular data\n",
    "- Evaluators:\n",
    "    - Applies corruptions and tests ML model on task\n"
   ]
  },
  {
   "cell_type": "markdown",
   "metadata": {
    "slideshow": {
     "slide_type": "slide"
    }
   },
   "source": [
    "# Jenga enables easy ML testing\n",
    "\n",
    "Example: Binary Classification on OpenML data set\n"
   ]
  },
  {
   "cell_type": "code",
   "execution_count": 1,
   "metadata": {
    "slideshow": {
     "slide_type": "skip"
    }
   },
   "outputs": [],
   "source": [
    "from jenga.tasks.openml import OpenMLBinaryClassificationTask\n",
    "import numpy as np"
   ]
  },
  {
   "cell_type": "markdown",
   "metadata": {
    "slideshow": {
     "slide_type": "slide"
    }
   },
   "source": [
    "First, let's instantiate a binary OpenML task (id 1471)"
   ]
  },
  {
   "cell_type": "code",
   "execution_count": 2,
   "metadata": {
    "slideshow": {
     "slide_type": "fragment"
    }
   },
   "outputs": [],
   "source": [
    "task = OpenMLBinaryClassificationTask(1471)"
   ]
  },
  {
   "cell_type": "markdown",
   "metadata": {
    "slideshow": {
     "slide_type": "fragment"
    }
   },
   "source": [
    "Each task has a baseline model (here: simple sklearn pipeline)"
   ]
  },
  {
   "cell_type": "code",
   "execution_count": 3,
   "metadata": {
    "slideshow": {
     "slide_type": "fragment"
    }
   },
   "outputs": [
    {
     "name": "stdout",
     "output_type": "stream",
     "text": [
      "Baseline ROC/AUC score: 0.609494255820072\n"
     ]
    }
   ],
   "source": [
    "task_model = task.fit_baseline_model()\n",
    "\n",
    "print(f\"Baseline ROC/AUC score: {task.get_baseline_performance()}\")"
   ]
  },
  {
   "cell_type": "markdown",
   "metadata": {
    "slideshow": {
     "slide_type": "slide"
    }
   },
   "source": [
    "# Data Corruptions\n",
    "\n",
    "It's simple to extend Jenga's corruption API. \n",
    "\n",
    "These are already implemented:\n",
    "\n",
    "- For text: leetspeek\n",
    "- For images: standard augmentations\n",
    "- For structured data (tables):\n",
    " - missing data\n",
    "     - missing completely at random\n",
    "     - missing at random\n",
    "     - missing not at random\n",
    " - swapping columns\n",
    " - numerical data:\n",
    "     - additive Gaussian noise\n",
    "     - scaling"
   ]
  },
  {
   "cell_type": "markdown",
   "metadata": {
    "slideshow": {
     "slide_type": "slide"
    }
   },
   "source": [
    "## Defining Custom Jenga Corruptions: Missing values\n",
    "\n",
    "It's easy to build your own corruptions"
   ]
  },
  {
   "cell_type": "markdown",
   "metadata": {
    "slideshow": {
     "slide_type": "slide"
    }
   },
   "source": [
    "```python\n",
    "class MissingValues(TabularCorruption):\n",
    "\n",
    "    def __init__(self, \n",
    "                 column, \n",
    "                 fraction, \n",
    "                 na_value=np.nan, \n",
    "                 missingness='MCAR'):\n",
    "        '''\n",
    "        Corruptions for structured data\n",
    "        Input:\n",
    "        column:      column to perturb, string\n",
    "        fraction:    fraction of rows to corrupt, float in (0,1)\n",
    "        na_value:    value\n",
    "        missingness: string in ['MCAR', 'MAR', 'MNAR']\n",
    "        '''\n",
    "        self.column = column\n",
    "        self.fraction = fraction\n",
    "        self.sampling = missingness\n",
    "        self.na_value = na_value\n",
    "\n",
    "    def transform(self, data):\n",
    "        corrupted_data = data.copy(deep=True)\n",
    "        rows = self.sample_rows(corrupted_data)\n",
    "        corrupted_data.loc[rows, [self.column]] = self.na_value\n",
    "        return corrupted_data\n",
    "```"
   ]
  },
  {
   "cell_type": "markdown",
   "metadata": {
    "slideshow": {
     "slide_type": "slide"
    }
   },
   "source": [
    "## Example: Missing values and Scaling\n",
    "\n",
    "Let's define some corruptions:\n",
    "- Replace 40% of all values (drawn completely at random, i.e. MCAR) in column ``V3`` with NaNs\n",
    "- Scale 30% of values in column ``V4`` (depending on values in another column, i.e. NAR)"
   ]
  },
  {
   "cell_type": "code",
   "execution_count": 4,
   "metadata": {
    "slideshow": {
     "slide_type": "fragment"
    }
   },
   "outputs": [
    {
     "data": {
      "text/html": [
       "<div>\n",
       "<style scoped>\n",
       "    .dataframe tbody tr th:only-of-type {\n",
       "        vertical-align: middle;\n",
       "    }\n",
       "\n",
       "    .dataframe tbody tr th {\n",
       "        vertical-align: top;\n",
       "    }\n",
       "\n",
       "    .dataframe thead th {\n",
       "        text-align: right;\n",
       "    }\n",
       "</style>\n",
       "<table border=\"1\" class=\"dataframe\">\n",
       "  <thead>\n",
       "    <tr style=\"text-align: right;\">\n",
       "      <th></th>\n",
       "      <th>V1</th>\n",
       "      <th>V2</th>\n",
       "      <th>V3</th>\n",
       "      <th>V4</th>\n",
       "      <th>V5</th>\n",
       "      <th>V6</th>\n",
       "      <th>V7</th>\n",
       "      <th>V8</th>\n",
       "      <th>V9</th>\n",
       "      <th>V10</th>\n",
       "      <th>V11</th>\n",
       "      <th>V12</th>\n",
       "      <th>V13</th>\n",
       "      <th>V14</th>\n",
       "    </tr>\n",
       "  </thead>\n",
       "  <tbody>\n",
       "    <tr>\n",
       "      <th>5376</th>\n",
       "      <td>4346.67</td>\n",
       "      <td>3998.97</td>\n",
       "      <td>4284.10</td>\n",
       "      <td>4123.08</td>\n",
       "      <td>4355.38</td>\n",
       "      <td>4628.72</td>\n",
       "      <td>4087.18</td>\n",
       "      <td>4614.36</td>\n",
       "      <td>4204.62</td>\n",
       "      <td>4255.90</td>\n",
       "      <td>4228.72</td>\n",
       "      <td>4293.33</td>\n",
       "      <td>4641.54</td>\n",
       "      <td>4402.05</td>\n",
       "    </tr>\n",
       "    <tr>\n",
       "      <th>6658</th>\n",
       "      <td>4415.90</td>\n",
       "      <td>4058.46</td>\n",
       "      <td>4292.82</td>\n",
       "      <td>4135.90</td>\n",
       "      <td>4330.77</td>\n",
       "      <td>4609.23</td>\n",
       "      <td>4059.49</td>\n",
       "      <td>4623.08</td>\n",
       "      <td>4201.54</td>\n",
       "      <td>4249.23</td>\n",
       "      <td>4249.74</td>\n",
       "      <td>4315.90</td>\n",
       "      <td>4687.18</td>\n",
       "      <td>4483.08</td>\n",
       "    </tr>\n",
       "    <tr>\n",
       "      <th>7906</th>\n",
       "      <td>4298.97</td>\n",
       "      <td>4020.51</td>\n",
       "      <td>NaN</td>\n",
       "      <td>4120.00</td>\n",
       "      <td>4333.85</td>\n",
       "      <td>4611.28</td>\n",
       "      <td>4044.62</td>\n",
       "      <td>4616.92</td>\n",
       "      <td>4196.41</td>\n",
       "      <td>4235.38</td>\n",
       "      <td>4204.10</td>\n",
       "      <td>4270.77</td>\n",
       "      <td>4599.49</td>\n",
       "      <td>4350.26</td>\n",
       "    </tr>\n",
       "    <tr>\n",
       "      <th>6774</th>\n",
       "      <td>4314.36</td>\n",
       "      <td>3978.97</td>\n",
       "      <td>4276.41</td>\n",
       "      <td>4107.18</td>\n",
       "      <td>4329.23</td>\n",
       "      <td>4617.44</td>\n",
       "      <td>4083.08</td>\n",
       "      <td>4633.33</td>\n",
       "      <td>4210.77</td>\n",
       "      <td>4238.97</td>\n",
       "      <td>4207.69</td>\n",
       "      <td>4291.28</td>\n",
       "      <td>4592.82</td>\n",
       "      <td>4380.00</td>\n",
       "    </tr>\n",
       "    <tr>\n",
       "      <th>4663</th>\n",
       "      <td>4290.77</td>\n",
       "      <td>3990.77</td>\n",
       "      <td>NaN</td>\n",
       "      <td>4122.56</td>\n",
       "      <td>4332.31</td>\n",
       "      <td>4616.41</td>\n",
       "      <td>4065.13</td>\n",
       "      <td>4618.97</td>\n",
       "      <td>4200.51</td>\n",
       "      <td>4227.69</td>\n",
       "      <td>4198.97</td>\n",
       "      <td>4281.54</td>\n",
       "      <td>4584.10</td>\n",
       "      <td>4355.38</td>\n",
       "    </tr>\n",
       "  </tbody>\n",
       "</table>\n",
       "</div>"
      ],
      "text/plain": [
       "           V1       V2       V3       V4       V5       V6       V7       V8  \\\n",
       "5376  4346.67  3998.97  4284.10  4123.08  4355.38  4628.72  4087.18  4614.36   \n",
       "6658  4415.90  4058.46  4292.82  4135.90  4330.77  4609.23  4059.49  4623.08   \n",
       "7906  4298.97  4020.51      NaN  4120.00  4333.85  4611.28  4044.62  4616.92   \n",
       "6774  4314.36  3978.97  4276.41  4107.18  4329.23  4617.44  4083.08  4633.33   \n",
       "4663  4290.77  3990.77      NaN  4122.56  4332.31  4616.41  4065.13  4618.97   \n",
       "\n",
       "           V9      V10      V11      V12      V13      V14  \n",
       "5376  4204.62  4255.90  4228.72  4293.33  4641.54  4402.05  \n",
       "6658  4201.54  4249.23  4249.74  4315.90  4687.18  4483.08  \n",
       "7906  4196.41  4235.38  4204.10  4270.77  4599.49  4350.26  \n",
       "6774  4210.77  4238.97  4207.69  4291.28  4592.82  4380.00  \n",
       "4663  4200.51  4227.69  4198.97  4281.54  4584.10  4355.38  "
      ]
     },
     "execution_count": 4,
     "metadata": {},
     "output_type": "execute_result"
    }
   ],
   "source": [
    "from jenga.corruptions.generic import MissingValues\n",
    "\n",
    "missingness = MissingValues(column='V3', \n",
    "                            fraction=0.4, \n",
    "                            missingness='MNAR',\n",
    "                            na_value=np.nan)\n",
    "\n",
    "corrupted_df = missingness.transform(task.test_data)\n",
    "corrupted_df.sample(n=5)"
   ]
  },
  {
   "cell_type": "code",
   "execution_count": 5,
   "metadata": {
    "slideshow": {
     "slide_type": "slide"
    }
   },
   "outputs": [
    {
     "data": {
      "text/html": [
       "<div>\n",
       "<style scoped>\n",
       "    .dataframe tbody tr th:only-of-type {\n",
       "        vertical-align: middle;\n",
       "    }\n",
       "\n",
       "    .dataframe tbody tr th {\n",
       "        vertical-align: top;\n",
       "    }\n",
       "\n",
       "    .dataframe thead th {\n",
       "        text-align: right;\n",
       "    }\n",
       "</style>\n",
       "<table border=\"1\" class=\"dataframe\">\n",
       "  <thead>\n",
       "    <tr style=\"text-align: right;\">\n",
       "      <th></th>\n",
       "      <th>V1</th>\n",
       "      <th>V2</th>\n",
       "      <th>V3</th>\n",
       "      <th>V4</th>\n",
       "      <th>V5</th>\n",
       "      <th>V6</th>\n",
       "      <th>V7</th>\n",
       "      <th>V8</th>\n",
       "      <th>V9</th>\n",
       "      <th>V10</th>\n",
       "      <th>V11</th>\n",
       "      <th>V12</th>\n",
       "      <th>V13</th>\n",
       "      <th>V14</th>\n",
       "    </tr>\n",
       "  </thead>\n",
       "  <tbody>\n",
       "    <tr>\n",
       "      <th>14814</th>\n",
       "      <td>4287.18</td>\n",
       "      <td>4024.62</td>\n",
       "      <td>4247.69</td>\n",
       "      <td>411590.00</td>\n",
       "      <td>4334.87</td>\n",
       "      <td>4610.77</td>\n",
       "      <td>4066.15</td>\n",
       "      <td>4618.46</td>\n",
       "      <td>4203.08</td>\n",
       "      <td>4228.21</td>\n",
       "      <td>4212.31</td>\n",
       "      <td>4278.46</td>\n",
       "      <td>4616.41</td>\n",
       "      <td>4352.31</td>\n",
       "    </tr>\n",
       "    <tr>\n",
       "      <th>7987</th>\n",
       "      <td>4291.28</td>\n",
       "      <td>3992.82</td>\n",
       "      <td>4251.79</td>\n",
       "      <td>4107.18</td>\n",
       "      <td>4336.92</td>\n",
       "      <td>4621.03</td>\n",
       "      <td>4064.10</td>\n",
       "      <td>4627.18</td>\n",
       "      <td>4206.15</td>\n",
       "      <td>4232.82</td>\n",
       "      <td>4175.90</td>\n",
       "      <td>4265.64</td>\n",
       "      <td>4595.38</td>\n",
       "      <td>4351.79</td>\n",
       "    </tr>\n",
       "    <tr>\n",
       "      <th>5241</th>\n",
       "      <td>4420.00</td>\n",
       "      <td>4055.90</td>\n",
       "      <td>4295.38</td>\n",
       "      <td>4151.28</td>\n",
       "      <td>4359.49</td>\n",
       "      <td>4627.69</td>\n",
       "      <td>4087.69</td>\n",
       "      <td>4614.87</td>\n",
       "      <td>4216.92</td>\n",
       "      <td>4270.77</td>\n",
       "      <td>4243.08</td>\n",
       "      <td>4314.87</td>\n",
       "      <td>4680.51</td>\n",
       "      <td>4470.77</td>\n",
       "    </tr>\n",
       "    <tr>\n",
       "      <th>1382</th>\n",
       "      <td>4314.87</td>\n",
       "      <td>3971.79</td>\n",
       "      <td>NaN</td>\n",
       "      <td>4091.28</td>\n",
       "      <td>4334.87</td>\n",
       "      <td>4603.08</td>\n",
       "      <td>4094.36</td>\n",
       "      <td>4624.62</td>\n",
       "      <td>4215.90</td>\n",
       "      <td>4251.79</td>\n",
       "      <td>4244.62</td>\n",
       "      <td>4294.36</td>\n",
       "      <td>4671.28</td>\n",
       "      <td>4420.00</td>\n",
       "    </tr>\n",
       "    <tr>\n",
       "      <th>6705</th>\n",
       "      <td>4350.26</td>\n",
       "      <td>4022.05</td>\n",
       "      <td>4276.92</td>\n",
       "      <td>4136.92</td>\n",
       "      <td>4319.49</td>\n",
       "      <td>4600.51</td>\n",
       "      <td>4056.92</td>\n",
       "      <td>4616.41</td>\n",
       "      <td>4196.92</td>\n",
       "      <td>4229.74</td>\n",
       "      <td>4217.44</td>\n",
       "      <td>4284.62</td>\n",
       "      <td>4626.67</td>\n",
       "      <td>4407.69</td>\n",
       "    </tr>\n",
       "  </tbody>\n",
       "</table>\n",
       "</div>"
      ],
      "text/plain": [
       "            V1       V2       V3         V4       V5       V6       V7  \\\n",
       "14814  4287.18  4024.62  4247.69  411590.00  4334.87  4610.77  4066.15   \n",
       "7987   4291.28  3992.82  4251.79    4107.18  4336.92  4621.03  4064.10   \n",
       "5241   4420.00  4055.90  4295.38    4151.28  4359.49  4627.69  4087.69   \n",
       "1382   4314.87  3971.79      NaN    4091.28  4334.87  4603.08  4094.36   \n",
       "6705   4350.26  4022.05  4276.92    4136.92  4319.49  4600.51  4056.92   \n",
       "\n",
       "            V8       V9      V10      V11      V12      V13      V14  \n",
       "14814  4618.46  4203.08  4228.21  4212.31  4278.46  4616.41  4352.31  \n",
       "7987   4627.18  4206.15  4232.82  4175.90  4265.64  4595.38  4351.79  \n",
       "5241   4614.87  4216.92  4270.77  4243.08  4314.87  4680.51  4470.77  \n",
       "1382   4624.62  4215.90  4251.79  4244.62  4294.36  4671.28  4420.00  \n",
       "6705   4616.41  4196.92  4229.74  4217.44  4284.62  4626.67  4407.69  "
      ]
     },
     "execution_count": 5,
     "metadata": {},
     "output_type": "execute_result"
    }
   ],
   "source": [
    "from jenga.corruptions.numerical import Scaling\n",
    "\n",
    "scaling = Scaling(column='V4',\n",
    "                  fraction=0.3,\n",
    "                  sampling='NAR')\n",
    "\n",
    "corrupted_df = scaling.transform(corrupted_df)\n",
    "corrupted_df.sample(n=5)"
   ]
  },
  {
   "cell_type": "markdown",
   "metadata": {
    "slideshow": {
     "slide_type": "slide"
    }
   },
   "source": [
    "Now let's evaluate our baseline model in the above task with the specified corruptions. \n",
    "\n",
    "We repeat the experiment 5 times to get robust statistics. "
   ]
  },
  {
   "cell_type": "code",
   "execution_count": 6,
   "metadata": {
    "slideshow": {
     "slide_type": "fragment"
    }
   },
   "outputs": [
    {
     "name": "stdout",
     "output_type": "stream",
     "text": [
      "0/10 (0.0448059999999999)\n"
     ]
    }
   ],
   "source": [
    "from jenga.evaluation.corruption_impact import CorruptionImpactEvaluator\n",
    "\n",
    "num_repetitions = 5\n",
    "\n",
    "task_evaluator = CorruptionImpactEvaluator(task)\n",
    "\n",
    "results = task_evaluator.evaluate(task_model, \n",
    "                                  num_repetitions, \n",
    "                                  missingness,\n",
    "                                  scaling)"
   ]
  },
  {
   "cell_type": "code",
   "execution_count": 7,
   "metadata": {},
   "outputs": [
    {
     "name": "stdout",
     "output_type": "stream",
     "text": [
      "ROC on clean data: \t0.61\n",
      "ROC on corrupted data: \t0.54\n"
     ]
    }
   ],
   "source": [
    "print(f'ROC on clean data: \\t{results[0].baseline_score:0.2}')\n",
    "print(f'ROC on corrupted data: \\t{np.mean(results[0].corrupted_scores):0.2}')"
   ]
  },
  {
   "cell_type": "markdown",
   "metadata": {
    "slideshow": {
     "slide_type": "slide"
    }
   },
   "source": [
    "# Summary\n",
    "\n",
    "- ML model testing is important\n",
    "- JENGA provides convenient and extensible API to test ML:\n",
    "    - predefined tasks, errors and evaluators\n",
    "    - declarative error specification\n",
    "    - realistic error sampling\n",
    "- Future work: More and more realistic error generators\n",
    "- Interested in how to use JENGA? Check out our 2020 SIGMOD paper:\n",
    "    [Schelter, Rukat, Biessmann, \"Learning to Validate the Predictions of Black Box Classifiers on Unseen Data\"](https://dl.acm.org/doi/abs/10.1145/3318464.3380604)"
   ]
  }
 ],
 "metadata": {
  "celltoolbar": "Slideshow",
  "kernelspec": {
   "display_name": "Python 3",
   "language": "python",
   "name": "python3"
  },
  "language_info": {
   "codemirror_mode": {
    "name": "ipython",
    "version": 3
   },
   "file_extension": ".py",
   "mimetype": "text/x-python",
   "name": "python",
   "nbconvert_exporter": "python",
   "pygments_lexer": "ipython3",
   "version": "3.8.2"
  }
 },
 "nbformat": 4,
 "nbformat_minor": 5
}

{
 "cells": [
  {
   "cell_type": "code",
   "execution_count": 1,
   "metadata": {},
   "outputs": [],
   "source": [
    "%load_ext autoreload\n",
    "%autoreload 2\n",
    "\n",
    "from jenga.tasks.openml import OpenMLTask\n",
    "from jenga.cleaning.cleaners import AutoGluonCleaner, SklearnCleaner\n",
    "from jenga.corruptions.numerical import Scaling\n",
    "from jenga.corruptions.generic import MissingValues\n",
    "from jenga.evaluation.autocleaning import AutoCleaningEvaluator\n",
    "import numpy as np"
   ]
  },
  {
   "cell_type": "code",
   "execution_count": 2,
   "metadata": {},
   "outputs": [
    {
     "name": "stdout",
     "output_type": "stream",
     "text": [
      "Found 0 categorical columns: []\n",
      "Found 39 numeric columns: ['a', 'b', 'c', 'd', 'e', 'f', 'g', 'h', 'i', 'j', 'k', 'l', 'm', 'n', 'o', 'p', 'r', 's', 't', 'u', 'v', 'z', 'aa', 'ab', 'ac', 'ad', 'ae', 'af', 'ag', 'ah', 'ai', 'aj', 'ak', 'al', 'am', 'an', 'ao', 'ap', 'ar']\n"
     ]
    }
   ],
   "source": [
    "task = OpenMLTask(0)\n",
    "\n",
    "cleaner = AutoGluonCleaner(numeric_columns=task.numerical_columns, \n",
    "                           categorical_columns=task.categorical_columns)"
   ]
  },
  {
   "cell_type": "code",
   "execution_count": 3,
   "metadata": {},
   "outputs": [
    {
     "name": "stdout",
     "output_type": "stream",
     "text": [
      "Fitting 5 folds for each of 3 candidates, totalling 15 fits\n"
     ]
    },
    {
     "name": "stderr",
     "output_type": "stream",
     "text": [
      "[Parallel(n_jobs=-1)]: Using backend LokyBackend with 8 concurrent workers.\n",
      "[Parallel(n_jobs=-1)]: Done  15 out of  15 | elapsed:    1.6s finished\n"
     ]
    }
   ],
   "source": [
    "model = task.fit_baseline_model(task.train_data, task.train_labels)\n"
   ]
  },
  {
   "cell_type": "code",
   "execution_count": 4,
   "metadata": {},
   "outputs": [],
   "source": [
    "# cleaner.fit(task.train_data)\n",
    "# evaluator = AutoCleaningEvaluator(task, cleaner)"
   ]
  },
  {
   "cell_type": "code",
   "execution_count": 5,
   "metadata": {},
   "outputs": [],
   "source": [
    "corruptions = []\n",
    "for impacted_column in task.numerical_columns + task.categorical_columns:\n",
    "    for fraction in [0.99, 0.5, 0.25, 0.1, 0.01]:\n",
    "        if impacted_column in task.numerical_columns:\n",
    "            corruptions.append(Scaling(impacted_column, fraction))\n",
    "        for missingness in ['MCAR', 'MAR', 'MNAR']:\n",
    "            corruption = MissingValues(impacted_column, fraction, missingness=missingness, na_value=np.nan)\n",
    "            corruptions.append(corruption)"
   ]
  },
  {
   "cell_type": "code",
   "execution_count": 6,
   "metadata": {
    "scrolled": true
   },
   "outputs": [],
   "source": [
    "# evaluator.evaluate(model, 5, *corruptions[:2])"
   ]
  },
  {
   "cell_type": "code",
   "execution_count": 7,
   "metadata": {},
   "outputs": [],
   "source": [
    "sklearn_cleaner = SklearnCleaner(numeric_columns=task.numerical_columns, \n",
    "                           categorical_columns=task.categorical_columns)"
   ]
  },
  {
   "cell_type": "code",
   "execution_count": 8,
   "metadata": {},
   "outputs": [
    {
     "name": "stdout",
     "output_type": "stream",
     "text": [
      "Fitting 2 folds for each of 2 candidates, totalling 4 fits\n"
     ]
    },
    {
     "name": "stderr",
     "output_type": "stream",
     "text": [
      "[Parallel(n_jobs=-1)]: Using backend LokyBackend with 8 concurrent workers.\n",
      "[Parallel(n_jobs=-1)]: Done   4 out of   4 | elapsed:    0.2s remaining:    0.0s\n",
      "[Parallel(n_jobs=-1)]: Done   4 out of   4 | elapsed:    0.2s finished\n"
     ]
    },
    {
     "name": "stdout",
     "output_type": "stream",
     "text": [
      "Fitting 2 folds for each of 2 candidates, totalling 4 fits\n"
     ]
    },
    {
     "name": "stderr",
     "output_type": "stream",
     "text": [
      "[Parallel(n_jobs=-1)]: Using backend LokyBackend with 8 concurrent workers.\n",
      "[Parallel(n_jobs=-1)]: Done   4 out of   4 | elapsed:    0.1s remaining:    0.0s\n",
      "[Parallel(n_jobs=-1)]: Done   4 out of   4 | elapsed:    0.1s finished\n"
     ]
    },
    {
     "name": "stdout",
     "output_type": "stream",
     "text": [
      "Fitting 2 folds for each of 2 candidates, totalling 4 fits\n"
     ]
    },
    {
     "name": "stderr",
     "output_type": "stream",
     "text": [
      "[Parallel(n_jobs=-1)]: Using backend LokyBackend with 8 concurrent workers.\n",
      "[Parallel(n_jobs=-1)]: Done   4 out of   4 | elapsed:    0.1s remaining:    0.0s\n",
      "[Parallel(n_jobs=-1)]: Done   4 out of   4 | elapsed:    0.1s finished\n"
     ]
    },
    {
     "name": "stdout",
     "output_type": "stream",
     "text": [
      "Fitting 2 folds for each of 2 candidates, totalling 4 fits\n",
      "Fitting 2 folds for each of 2 candidates, totalling 4 fits\n"
     ]
    },
    {
     "name": "stderr",
     "output_type": "stream",
     "text": [
      "[Parallel(n_jobs=-1)]: Using backend LokyBackend with 8 concurrent workers.\n",
      "[Parallel(n_jobs=-1)]: Done   4 out of   4 | elapsed:    0.1s remaining:    0.0s\n",
      "[Parallel(n_jobs=-1)]: Done   4 out of   4 | elapsed:    0.1s finished\n",
      "[Parallel(n_jobs=-1)]: Using backend LokyBackend with 8 concurrent workers.\n",
      "[Parallel(n_jobs=-1)]: Done   4 out of   4 | elapsed:    0.2s remaining:    0.0s\n",
      "[Parallel(n_jobs=-1)]: Done   4 out of   4 | elapsed:    0.2s finished\n",
      "[Parallel(n_jobs=-1)]: Using backend LokyBackend with 8 concurrent workers.\n"
     ]
    },
    {
     "name": "stdout",
     "output_type": "stream",
     "text": [
      "Fitting 2 folds for each of 2 candidates, totalling 4 fits\n"
     ]
    },
    {
     "name": "stderr",
     "output_type": "stream",
     "text": [
      "[Parallel(n_jobs=-1)]: Done   4 out of   4 | elapsed:    0.1s remaining:    0.0s\n",
      "[Parallel(n_jobs=-1)]: Done   4 out of   4 | elapsed:    0.1s finished\n",
      "[Parallel(n_jobs=-1)]: Using backend LokyBackend with 8 concurrent workers.\n"
     ]
    },
    {
     "name": "stdout",
     "output_type": "stream",
     "text": [
      "Fitting 2 folds for each of 2 candidates, totalling 4 fits\n"
     ]
    },
    {
     "name": "stderr",
     "output_type": "stream",
     "text": [
      "[Parallel(n_jobs=-1)]: Done   4 out of   4 | elapsed:    0.1s remaining:    0.0s\n",
      "[Parallel(n_jobs=-1)]: Done   4 out of   4 | elapsed:    0.1s finished\n",
      "[Parallel(n_jobs=-1)]: Using backend LokyBackend with 8 concurrent workers.\n"
     ]
    },
    {
     "name": "stdout",
     "output_type": "stream",
     "text": [
      "Fitting 2 folds for each of 2 candidates, totalling 4 fits\n"
     ]
    },
    {
     "name": "stderr",
     "output_type": "stream",
     "text": [
      "[Parallel(n_jobs=-1)]: Done   4 out of   4 | elapsed:    0.1s remaining:    0.0s\n",
      "[Parallel(n_jobs=-1)]: Done   4 out of   4 | elapsed:    0.1s finished\n",
      "[Parallel(n_jobs=-1)]: Using backend LokyBackend with 8 concurrent workers.\n"
     ]
    },
    {
     "name": "stdout",
     "output_type": "stream",
     "text": [
      "Fitting 2 folds for each of 2 candidates, totalling 4 fits\n"
     ]
    },
    {
     "name": "stderr",
     "output_type": "stream",
     "text": [
      "[Parallel(n_jobs=-1)]: Done   4 out of   4 | elapsed:    0.1s remaining:    0.0s\n",
      "[Parallel(n_jobs=-1)]: Done   4 out of   4 | elapsed:    0.1s finished\n",
      "[Parallel(n_jobs=-1)]: Using backend LokyBackend with 8 concurrent workers.\n"
     ]
    },
    {
     "name": "stdout",
     "output_type": "stream",
     "text": [
      "Fitting 2 folds for each of 2 candidates, totalling 4 fits\n"
     ]
    },
    {
     "name": "stderr",
     "output_type": "stream",
     "text": [
      "[Parallel(n_jobs=-1)]: Done   4 out of   4 | elapsed:    0.1s remaining:    0.0s\n",
      "[Parallel(n_jobs=-1)]: Done   4 out of   4 | elapsed:    0.1s finished\n",
      "[Parallel(n_jobs=-1)]: Using backend LokyBackend with 8 concurrent workers.\n"
     ]
    },
    {
     "name": "stdout",
     "output_type": "stream",
     "text": [
      "Fitting 2 folds for each of 2 candidates, totalling 4 fits\n",
      "Fitting 2 folds for each of 2 candidates, totalling 4 fits\n"
     ]
    },
    {
     "name": "stderr",
     "output_type": "stream",
     "text": [
      "[Parallel(n_jobs=-1)]: Done   4 out of   4 | elapsed:    0.1s remaining:    0.0s\n",
      "[Parallel(n_jobs=-1)]: Done   4 out of   4 | elapsed:    0.1s finished\n",
      "[Parallel(n_jobs=-1)]: Using backend LokyBackend with 8 concurrent workers.\n",
      "[Parallel(n_jobs=-1)]: Done   4 out of   4 | elapsed:    0.1s remaining:    0.0s\n",
      "[Parallel(n_jobs=-1)]: Done   4 out of   4 | elapsed:    0.1s finished\n",
      "[Parallel(n_jobs=-1)]: Using backend LokyBackend with 8 concurrent workers.\n"
     ]
    },
    {
     "name": "stdout",
     "output_type": "stream",
     "text": [
      "Fitting 2 folds for each of 2 candidates, totalling 4 fits\n",
      "Fitting 2 folds for each of 2 candidates, totalling 4 fits\n"
     ]
    },
    {
     "name": "stderr",
     "output_type": "stream",
     "text": [
      "[Parallel(n_jobs=-1)]: Done   4 out of   4 | elapsed:    0.1s remaining:    0.0s\n",
      "[Parallel(n_jobs=-1)]: Done   4 out of   4 | elapsed:    0.1s finished\n",
      "[Parallel(n_jobs=-1)]: Using backend LokyBackend with 8 concurrent workers.\n",
      "[Parallel(n_jobs=-1)]: Done   4 out of   4 | elapsed:    0.1s remaining:    0.0s\n",
      "[Parallel(n_jobs=-1)]: Done   4 out of   4 | elapsed:    0.1s finished\n",
      "[Parallel(n_jobs=-1)]: Using backend LokyBackend with 8 concurrent workers.\n"
     ]
    },
    {
     "name": "stdout",
     "output_type": "stream",
     "text": [
      "Fitting 2 folds for each of 2 candidates, totalling 4 fits\n"
     ]
    },
    {
     "name": "stderr",
     "output_type": "stream",
     "text": [
      "[Parallel(n_jobs=-1)]: Done   4 out of   4 | elapsed:    0.1s remaining:    0.0s\n",
      "[Parallel(n_jobs=-1)]: Done   4 out of   4 | elapsed:    0.1s finished\n",
      "[Parallel(n_jobs=-1)]: Using backend LokyBackend with 8 concurrent workers.\n",
      "[Parallel(n_jobs=-1)]: Done   4 out of   4 | elapsed:    0.1s remaining:    0.0s\n",
      "[Parallel(n_jobs=-1)]: Done   4 out of   4 | elapsed:    0.1s finished\n"
     ]
    },
    {
     "name": "stdout",
     "output_type": "stream",
     "text": [
      "Fitting 2 folds for each of 2 candidates, totalling 4 fits\n",
      "Fitting 2 folds for each of 2 candidates, totalling 4 fits\n"
     ]
    },
    {
     "name": "stderr",
     "output_type": "stream",
     "text": [
      "[Parallel(n_jobs=-1)]: Using backend LokyBackend with 8 concurrent workers.\n",
      "[Parallel(n_jobs=-1)]: Done   4 out of   4 | elapsed:    0.1s remaining:    0.0s\n",
      "[Parallel(n_jobs=-1)]: Done   4 out of   4 | elapsed:    0.1s finished\n"
     ]
    },
    {
     "name": "stdout",
     "output_type": "stream",
     "text": [
      "Fitting 2 folds for each of 2 candidates, totalling 4 fits\n",
      "Fitting 2 folds for each of 2 candidates, totalling 4 fits\n"
     ]
    },
    {
     "name": "stderr",
     "output_type": "stream",
     "text": [
      "[Parallel(n_jobs=-1)]: Using backend LokyBackend with 8 concurrent workers.\n",
      "[Parallel(n_jobs=-1)]: Done   4 out of   4 | elapsed:    0.1s remaining:    0.0s\n",
      "[Parallel(n_jobs=-1)]: Done   4 out of   4 | elapsed:    0.1s finished\n",
      "[Parallel(n_jobs=-1)]: Using backend LokyBackend with 8 concurrent workers.\n",
      "[Parallel(n_jobs=-1)]: Done   4 out of   4 | elapsed:    0.1s remaining:    0.0s\n",
      "[Parallel(n_jobs=-1)]: Done   4 out of   4 | elapsed:    0.1s finished\n",
      "[Parallel(n_jobs=-1)]: Using backend LokyBackend with 8 concurrent workers.\n",
      "[Parallel(n_jobs=-1)]: Done   4 out of   4 | elapsed:    0.1s remaining:    0.0s\n",
      "[Parallel(n_jobs=-1)]: Done   4 out of   4 | elapsed:    0.1s finished\n"
     ]
    },
    {
     "name": "stdout",
     "output_type": "stream",
     "text": [
      "Fitting 2 folds for each of 2 candidates, totalling 4 fits\n",
      "Fitting 2 folds for each of 2 candidates, totalling 4 fits\n"
     ]
    },
    {
     "name": "stderr",
     "output_type": "stream",
     "text": [
      "[Parallel(n_jobs=-1)]: Using backend LokyBackend with 8 concurrent workers.\n",
      "[Parallel(n_jobs=-1)]: Done   4 out of   4 | elapsed:    0.1s remaining:    0.0s\n",
      "[Parallel(n_jobs=-1)]: Done   4 out of   4 | elapsed:    0.1s finished\n"
     ]
    },
    {
     "name": "stdout",
     "output_type": "stream",
     "text": [
      "Fitting 2 folds for each of 2 candidates, totalling 4 fits\n"
     ]
    },
    {
     "name": "stderr",
     "output_type": "stream",
     "text": [
      "[Parallel(n_jobs=-1)]: Using backend LokyBackend with 8 concurrent workers.\n",
      "[Parallel(n_jobs=-1)]: Done   4 out of   4 | elapsed:    0.1s remaining:    0.0s\n",
      "[Parallel(n_jobs=-1)]: Done   4 out of   4 | elapsed:    0.1s finished\n"
     ]
    },
    {
     "name": "stdout",
     "output_type": "stream",
     "text": [
      "Fitting 2 folds for each of 2 candidates, totalling 4 fits\n"
     ]
    },
    {
     "name": "stderr",
     "output_type": "stream",
     "text": [
      "[Parallel(n_jobs=-1)]: Using backend LokyBackend with 8 concurrent workers.\n",
      "[Parallel(n_jobs=-1)]: Done   4 out of   4 | elapsed:    0.1s remaining:    0.0s\n",
      "[Parallel(n_jobs=-1)]: Done   4 out of   4 | elapsed:    0.1s finished\n"
     ]
    },
    {
     "name": "stdout",
     "output_type": "stream",
     "text": [
      "Fitting 2 folds for each of 2 candidates, totalling 4 fits\n"
     ]
    },
    {
     "name": "stderr",
     "output_type": "stream",
     "text": [
      "[Parallel(n_jobs=-1)]: Using backend LokyBackend with 8 concurrent workers.\n",
      "[Parallel(n_jobs=-1)]: Done   4 out of   4 | elapsed:    0.1s remaining:    0.0s\n",
      "[Parallel(n_jobs=-1)]: Done   4 out of   4 | elapsed:    0.1s finished\n"
     ]
    },
    {
     "name": "stdout",
     "output_type": "stream",
     "text": [
      "Fitting 2 folds for each of 2 candidates, totalling 4 fits\n",
      "Fitting 2 folds for each of 2 candidates, totalling 4 fits\n"
     ]
    },
    {
     "name": "stderr",
     "output_type": "stream",
     "text": [
      "[Parallel(n_jobs=-1)]: Using backend LokyBackend with 8 concurrent workers.\n",
      "[Parallel(n_jobs=-1)]: Done   4 out of   4 | elapsed:    0.1s remaining:    0.0s\n",
      "[Parallel(n_jobs=-1)]: Done   4 out of   4 | elapsed:    0.1s finished\n",
      "[Parallel(n_jobs=-1)]: Using backend LokyBackend with 8 concurrent workers.\n",
      "[Parallel(n_jobs=-1)]: Done   4 out of   4 | elapsed:    0.1s remaining:    0.0s\n",
      "[Parallel(n_jobs=-1)]: Done   4 out of   4 | elapsed:    0.1s finished\n"
     ]
    },
    {
     "name": "stdout",
     "output_type": "stream",
     "text": [
      "Fitting 2 folds for each of 2 candidates, totalling 4 fits\n"
     ]
    },
    {
     "name": "stderr",
     "output_type": "stream",
     "text": [
      "[Parallel(n_jobs=-1)]: Using backend LokyBackend with 8 concurrent workers.\n",
      "[Parallel(n_jobs=-1)]: Done   4 out of   4 | elapsed:    0.1s remaining:    0.0s\n",
      "[Parallel(n_jobs=-1)]: Done   4 out of   4 | elapsed:    0.1s finished\n"
     ]
    },
    {
     "name": "stdout",
     "output_type": "stream",
     "text": [
      "Fitting 2 folds for each of 2 candidates, totalling 4 fits\n"
     ]
    },
    {
     "name": "stderr",
     "output_type": "stream",
     "text": [
      "[Parallel(n_jobs=-1)]: Using backend LokyBackend with 8 concurrent workers.\n",
      "[Parallel(n_jobs=-1)]: Done   4 out of   4 | elapsed:    0.1s remaining:    0.0s\n",
      "[Parallel(n_jobs=-1)]: Done   4 out of   4 | elapsed:    0.1s finished\n"
     ]
    },
    {
     "name": "stdout",
     "output_type": "stream",
     "text": [
      "Fitting 2 folds for each of 2 candidates, totalling 4 fits\n",
      "Fitting 2 folds for each of 2 candidates, totalling 4 fits\n"
     ]
    },
    {
     "name": "stderr",
     "output_type": "stream",
     "text": [
      "[Parallel(n_jobs=-1)]: Using backend LokyBackend with 8 concurrent workers.\n",
      "[Parallel(n_jobs=-1)]: Done   4 out of   4 | elapsed:    0.1s remaining:    0.0s\n",
      "[Parallel(n_jobs=-1)]: Done   4 out of   4 | elapsed:    0.1s finished\n",
      "[Parallel(n_jobs=-1)]: Using backend LokyBackend with 8 concurrent workers.\n",
      "[Parallel(n_jobs=-1)]: Done   4 out of   4 | elapsed:    0.1s remaining:    0.0s\n",
      "[Parallel(n_jobs=-1)]: Done   4 out of   4 | elapsed:    0.1s finished\n",
      "[Parallel(n_jobs=-1)]: Using backend LokyBackend with 8 concurrent workers.\n"
     ]
    },
    {
     "name": "stdout",
     "output_type": "stream",
     "text": [
      "Fitting 2 folds for each of 2 candidates, totalling 4 fits\n"
     ]
    },
    {
     "name": "stderr",
     "output_type": "stream",
     "text": [
      "[Parallel(n_jobs=-1)]: Done   4 out of   4 | elapsed:    0.1s remaining:    0.0s\n",
      "[Parallel(n_jobs=-1)]: Done   4 out of   4 | elapsed:    0.1s finished\n",
      "[Parallel(n_jobs=-1)]: Using backend LokyBackend with 8 concurrent workers.\n"
     ]
    },
    {
     "name": "stdout",
     "output_type": "stream",
     "text": [
      "Fitting 2 folds for each of 2 candidates, totalling 4 fits\n"
     ]
    },
    {
     "name": "stderr",
     "output_type": "stream",
     "text": [
      "[Parallel(n_jobs=-1)]: Done   4 out of   4 | elapsed:    0.1s remaining:    0.0s\n",
      "[Parallel(n_jobs=-1)]: Done   4 out of   4 | elapsed:    0.1s finished\n",
      "[Parallel(n_jobs=-1)]: Using backend LokyBackend with 8 concurrent workers.\n"
     ]
    },
    {
     "name": "stdout",
     "output_type": "stream",
     "text": [
      "Fitting 2 folds for each of 2 candidates, totalling 4 fits\n"
     ]
    },
    {
     "name": "stderr",
     "output_type": "stream",
     "text": [
      "[Parallel(n_jobs=-1)]: Done   4 out of   4 | elapsed:    0.1s remaining:    0.0s\n",
      "[Parallel(n_jobs=-1)]: Done   4 out of   4 | elapsed:    0.1s finished\n",
      "[Parallel(n_jobs=-1)]: Using backend LokyBackend with 8 concurrent workers.\n"
     ]
    },
    {
     "name": "stdout",
     "output_type": "stream",
     "text": [
      "Fitting 2 folds for each of 2 candidates, totalling 4 fits\n"
     ]
    },
    {
     "name": "stderr",
     "output_type": "stream",
     "text": [
      "[Parallel(n_jobs=-1)]: Done   4 out of   4 | elapsed:    0.1s remaining:    0.0s\n",
      "[Parallel(n_jobs=-1)]: Done   4 out of   4 | elapsed:    0.1s finished\n",
      "[Parallel(n_jobs=-1)]: Using backend LokyBackend with 8 concurrent workers.\n",
      "[Parallel(n_jobs=-1)]: Done   4 out of   4 | elapsed:    0.1s remaining:    0.0s\n",
      "[Parallel(n_jobs=-1)]: Done   4 out of   4 | elapsed:    0.1s finished\n"
     ]
    },
    {
     "name": "stdout",
     "output_type": "stream",
     "text": [
      "Fitting 2 folds for each of 2 candidates, totalling 4 fits\n",
      "Fitting 2 folds for each of 2 candidates, totalling 4 fits\n",
      "Fitting 2 folds for each of 2 candidates, totalling 4 fits\n"
     ]
    },
    {
     "name": "stderr",
     "output_type": "stream",
     "text": [
      "[Parallel(n_jobs=-1)]: Using backend LokyBackend with 8 concurrent workers.\n",
      "[Parallel(n_jobs=-1)]: Done   4 out of   4 | elapsed:    0.1s remaining:    0.0s\n",
      "[Parallel(n_jobs=-1)]: Done   4 out of   4 | elapsed:    0.1s finished\n",
      "[Parallel(n_jobs=-1)]: Using backend LokyBackend with 8 concurrent workers.\n",
      "[Parallel(n_jobs=-1)]: Done   4 out of   4 | elapsed:    0.1s remaining:    0.0s\n",
      "[Parallel(n_jobs=-1)]: Done   4 out of   4 | elapsed:    0.1s finished\n"
     ]
    },
    {
     "name": "stdout",
     "output_type": "stream",
     "text": [
      "Fitting 2 folds for each of 2 candidates, totalling 4 fits\n"
     ]
    },
    {
     "name": "stderr",
     "output_type": "stream",
     "text": [
      "[Parallel(n_jobs=-1)]: Using backend LokyBackend with 8 concurrent workers.\n",
      "[Parallel(n_jobs=-1)]: Done   4 out of   4 | elapsed:    0.1s remaining:    0.0s\n",
      "[Parallel(n_jobs=-1)]: Done   4 out of   4 | elapsed:    0.1s finished\n"
     ]
    },
    {
     "name": "stdout",
     "output_type": "stream",
     "text": [
      "Fitting 2 folds for each of 2 candidates, totalling 4 fits\n"
     ]
    },
    {
     "name": "stderr",
     "output_type": "stream",
     "text": [
      "[Parallel(n_jobs=-1)]: Using backend LokyBackend with 8 concurrent workers.\n",
      "[Parallel(n_jobs=-1)]: Done   4 out of   4 | elapsed:    0.1s remaining:    0.0s\n",
      "[Parallel(n_jobs=-1)]: Done   4 out of   4 | elapsed:    0.1s finished\n"
     ]
    },
    {
     "name": "stdout",
     "output_type": "stream",
     "text": [
      "Fitting 2 folds for each of 2 candidates, totalling 4 fits\n",
      "Fitting 2 folds for each of 2 candidates, totalling 4 fits\n"
     ]
    },
    {
     "name": "stderr",
     "output_type": "stream",
     "text": [
      "[Parallel(n_jobs=-1)]: Using backend LokyBackend with 8 concurrent workers.\n",
      "[Parallel(n_jobs=-1)]: Done   4 out of   4 | elapsed:    0.1s remaining:    0.0s\n",
      "[Parallel(n_jobs=-1)]: Done   4 out of   4 | elapsed:    0.1s finished\n",
      "[Parallel(n_jobs=-1)]: Using backend LokyBackend with 8 concurrent workers.\n",
      "[Parallel(n_jobs=-1)]: Done   4 out of   4 | elapsed:    0.1s remaining:    0.0s\n",
      "[Parallel(n_jobs=-1)]: Done   4 out of   4 | elapsed:    0.1s finished\n",
      "[Parallel(n_jobs=-1)]: Using backend LokyBackend with 8 concurrent workers.\n"
     ]
    },
    {
     "name": "stdout",
     "output_type": "stream",
     "text": [
      "Fitting 2 folds for each of 2 candidates, totalling 4 fits\n"
     ]
    },
    {
     "name": "stderr",
     "output_type": "stream",
     "text": [
      "[Parallel(n_jobs=-1)]: Done   4 out of   4 | elapsed:    0.1s remaining:    0.0s\n",
      "[Parallel(n_jobs=-1)]: Done   4 out of   4 | elapsed:    0.1s finished\n",
      "[Parallel(n_jobs=-1)]: Using backend LokyBackend with 8 concurrent workers.\n"
     ]
    },
    {
     "name": "stdout",
     "output_type": "stream",
     "text": [
      "Fitting 2 folds for each of 2 candidates, totalling 4 fits\n",
      "Fitting 2 folds for each of 2 candidates, totalling 4 fits\n"
     ]
    },
    {
     "name": "stderr",
     "output_type": "stream",
     "text": [
      "[Parallel(n_jobs=-1)]: Done   4 out of   4 | elapsed:    0.1s remaining:    0.0s\n",
      "[Parallel(n_jobs=-1)]: Done   4 out of   4 | elapsed:    0.1s finished\n",
      "[Parallel(n_jobs=-1)]: Using backend LokyBackend with 8 concurrent workers.\n",
      "[Parallel(n_jobs=-1)]: Done   4 out of   4 | elapsed:    0.1s remaining:    0.0s\n",
      "[Parallel(n_jobs=-1)]: Done   4 out of   4 | elapsed:    0.1s finished\n",
      "[Parallel(n_jobs=-1)]: Using backend LokyBackend with 8 concurrent workers.\n"
     ]
    },
    {
     "name": "stdout",
     "output_type": "stream",
     "text": [
      "Fitting 2 folds for each of 2 candidates, totalling 4 fits\n"
     ]
    },
    {
     "name": "stderr",
     "output_type": "stream",
     "text": [
      "[Parallel(n_jobs=-1)]: Done   4 out of   4 | elapsed:    0.1s remaining:    0.0s\n",
      "[Parallel(n_jobs=-1)]: Done   4 out of   4 | elapsed:    0.1s finished\n",
      "[Parallel(n_jobs=-1)]: Using backend LokyBackend with 8 concurrent workers.\n"
     ]
    },
    {
     "name": "stdout",
     "output_type": "stream",
     "text": [
      "Fitting 2 folds for each of 2 candidates, totalling 4 fits\n",
      "Fitting 2 folds for each of 2 candidates, totalling 4 fits\n"
     ]
    },
    {
     "name": "stderr",
     "output_type": "stream",
     "text": [
      "[Parallel(n_jobs=-1)]: Done   4 out of   4 | elapsed:    0.1s remaining:    0.0s\n",
      "[Parallel(n_jobs=-1)]: Done   4 out of   4 | elapsed:    0.1s finished\n",
      "[Parallel(n_jobs=-1)]: Using backend LokyBackend with 8 concurrent workers.\n",
      "[Parallel(n_jobs=-1)]: Done   4 out of   4 | elapsed:    0.2s remaining:    0.0s\n",
      "[Parallel(n_jobs=-1)]: Done   4 out of   4 | elapsed:    0.2s finished\n",
      "[Parallel(n_jobs=-1)]: Using backend LokyBackend with 8 concurrent workers.\n"
     ]
    },
    {
     "name": "stdout",
     "output_type": "stream",
     "text": [
      "Fitting 2 folds for each of 2 candidates, totalling 4 fits\n"
     ]
    },
    {
     "name": "stderr",
     "output_type": "stream",
     "text": [
      "[Parallel(n_jobs=-1)]: Done   4 out of   4 | elapsed:    0.1s remaining:    0.0s\n",
      "[Parallel(n_jobs=-1)]: Done   4 out of   4 | elapsed:    0.1s finished\n",
      "[Parallel(n_jobs=-1)]: Using backend LokyBackend with 8 concurrent workers.\n"
     ]
    },
    {
     "name": "stdout",
     "output_type": "stream",
     "text": [
      "Fitting 2 folds for each of 2 candidates, totalling 4 fits\n"
     ]
    },
    {
     "name": "stderr",
     "output_type": "stream",
     "text": [
      "[Parallel(n_jobs=-1)]: Done   4 out of   4 | elapsed:    0.1s remaining:    0.0s\n",
      "[Parallel(n_jobs=-1)]: Done   4 out of   4 | elapsed:    0.1s finished\n",
      "[Parallel(n_jobs=-1)]: Using backend LokyBackend with 8 concurrent workers.\n"
     ]
    },
    {
     "name": "stdout",
     "output_type": "stream",
     "text": [
      "Fitting 2 folds for each of 2 candidates, totalling 4 fits\n",
      "Fitting 2 folds for each of 2 candidates, totalling 4 fits\n"
     ]
    },
    {
     "name": "stderr",
     "output_type": "stream",
     "text": [
      "[Parallel(n_jobs=-1)]: Done   4 out of   4 | elapsed:    0.1s remaining:    0.0s\n",
      "[Parallel(n_jobs=-1)]: Done   4 out of   4 | elapsed:    0.1s finished\n",
      "[Parallel(n_jobs=-1)]: Using backend LokyBackend with 8 concurrent workers.\n",
      "[Parallel(n_jobs=-1)]: Done   4 out of   4 | elapsed:    0.1s remaining:    0.0s\n",
      "[Parallel(n_jobs=-1)]: Done   4 out of   4 | elapsed:    0.1s finished\n",
      "[Parallel(n_jobs=-1)]: Using backend LokyBackend with 8 concurrent workers.\n"
     ]
    },
    {
     "name": "stdout",
     "output_type": "stream",
     "text": [
      "Fitting 2 folds for each of 2 candidates, totalling 4 fits\n"
     ]
    },
    {
     "name": "stderr",
     "output_type": "stream",
     "text": [
      "[Parallel(n_jobs=-1)]: Done   4 out of   4 | elapsed:    0.1s remaining:    0.0s\n",
      "[Parallel(n_jobs=-1)]: Done   4 out of   4 | elapsed:    0.1s finished\n",
      "[Parallel(n_jobs=-1)]: Using backend LokyBackend with 8 concurrent workers.\n"
     ]
    },
    {
     "name": "stdout",
     "output_type": "stream",
     "text": [
      "Fitting 2 folds for each of 2 candidates, totalling 4 fits\n"
     ]
    },
    {
     "name": "stderr",
     "output_type": "stream",
     "text": [
      "[Parallel(n_jobs=-1)]: Done   4 out of   4 | elapsed:    0.1s remaining:    0.0s\n",
      "[Parallel(n_jobs=-1)]: Done   4 out of   4 | elapsed:    0.1s finished\n",
      "[Parallel(n_jobs=-1)]: Using backend LokyBackend with 8 concurrent workers.\n"
     ]
    },
    {
     "name": "stdout",
     "output_type": "stream",
     "text": [
      "Fitting 2 folds for each of 2 candidates, totalling 4 fits\n"
     ]
    },
    {
     "name": "stderr",
     "output_type": "stream",
     "text": [
      "[Parallel(n_jobs=-1)]: Done   4 out of   4 | elapsed:    0.1s remaining:    0.0s\n",
      "[Parallel(n_jobs=-1)]: Done   4 out of   4 | elapsed:    0.1s finished\n",
      "[Parallel(n_jobs=-1)]: Using backend LokyBackend with 8 concurrent workers.\n"
     ]
    },
    {
     "name": "stdout",
     "output_type": "stream",
     "text": [
      "Fitting 2 folds for each of 2 candidates, totalling 4 fits\n"
     ]
    },
    {
     "name": "stderr",
     "output_type": "stream",
     "text": [
      "[Parallel(n_jobs=-1)]: Done   4 out of   4 | elapsed:    0.1s remaining:    0.0s\n",
      "[Parallel(n_jobs=-1)]: Done   4 out of   4 | elapsed:    0.1s finished\n",
      "[Parallel(n_jobs=-1)]: Using backend LokyBackend with 8 concurrent workers.\n"
     ]
    },
    {
     "name": "stdout",
     "output_type": "stream",
     "text": [
      "Fitting 2 folds for each of 2 candidates, totalling 4 fits\n"
     ]
    },
    {
     "name": "stderr",
     "output_type": "stream",
     "text": [
      "[Parallel(n_jobs=-1)]: Done   4 out of   4 | elapsed:    0.1s remaining:    0.0s\n",
      "[Parallel(n_jobs=-1)]: Done   4 out of   4 | elapsed:    0.1s finished\n",
      "[Parallel(n_jobs=-1)]: Using backend LokyBackend with 8 concurrent workers.\n",
      "[Parallel(n_jobs=-1)]: Done   4 out of   4 | elapsed:    0.1s remaining:    0.0s\n",
      "[Parallel(n_jobs=-1)]: Done   4 out of   4 | elapsed:    0.1s finished\n",
      "[Parallel(n_jobs=-1)]: Using backend LokyBackend with 8 concurrent workers.\n"
     ]
    },
    {
     "name": "stdout",
     "output_type": "stream",
     "text": [
      "Fitting 2 folds for each of 2 candidates, totalling 4 fits\n",
      "Fitting 2 folds for each of 2 candidates, totalling 4 fits\n"
     ]
    },
    {
     "name": "stderr",
     "output_type": "stream",
     "text": [
      "[Parallel(n_jobs=-1)]: Done   4 out of   4 | elapsed:    0.1s remaining:    0.0s\n",
      "[Parallel(n_jobs=-1)]: Done   4 out of   4 | elapsed:    0.1s finished\n",
      "[Parallel(n_jobs=-1)]: Using backend LokyBackend with 8 concurrent workers.\n"
     ]
    },
    {
     "name": "stdout",
     "output_type": "stream",
     "text": [
      "Fitting 2 folds for each of 2 candidates, totalling 4 fits\n"
     ]
    },
    {
     "name": "stderr",
     "output_type": "stream",
     "text": [
      "[Parallel(n_jobs=-1)]: Done   4 out of   4 | elapsed:    0.1s remaining:    0.0s\n",
      "[Parallel(n_jobs=-1)]: Done   4 out of   4 | elapsed:    0.1s finished\n",
      "[Parallel(n_jobs=-1)]: Using backend LokyBackend with 8 concurrent workers.\n"
     ]
    },
    {
     "name": "stdout",
     "output_type": "stream",
     "text": [
      "Fitting 2 folds for each of 2 candidates, totalling 4 fits\n"
     ]
    },
    {
     "name": "stderr",
     "output_type": "stream",
     "text": [
      "[Parallel(n_jobs=-1)]: Done   4 out of   4 | elapsed:    0.1s remaining:    0.0s\n",
      "[Parallel(n_jobs=-1)]: Done   4 out of   4 | elapsed:    0.1s finished\n",
      "[Parallel(n_jobs=-1)]: Using backend LokyBackend with 8 concurrent workers.\n"
     ]
    },
    {
     "name": "stdout",
     "output_type": "stream",
     "text": [
      "Fitting 2 folds for each of 2 candidates, totalling 4 fits\n"
     ]
    },
    {
     "name": "stderr",
     "output_type": "stream",
     "text": [
      "[Parallel(n_jobs=-1)]: Done   4 out of   4 | elapsed:    0.1s remaining:    0.0s\n",
      "[Parallel(n_jobs=-1)]: Done   4 out of   4 | elapsed:    0.1s finished\n",
      "[Parallel(n_jobs=-1)]: Using backend LokyBackend with 8 concurrent workers.\n"
     ]
    },
    {
     "name": "stdout",
     "output_type": "stream",
     "text": [
      "Fitting 2 folds for each of 2 candidates, totalling 4 fits\n"
     ]
    },
    {
     "name": "stderr",
     "output_type": "stream",
     "text": [
      "[Parallel(n_jobs=-1)]: Done   4 out of   4 | elapsed:    0.1s remaining:    0.0s\n",
      "[Parallel(n_jobs=-1)]: Done   4 out of   4 | elapsed:    0.1s finished\n",
      "[Parallel(n_jobs=-1)]: Using backend LokyBackend with 8 concurrent workers.\n"
     ]
    },
    {
     "name": "stdout",
     "output_type": "stream",
     "text": [
      "Fitting 2 folds for each of 2 candidates, totalling 4 fits\n"
     ]
    },
    {
     "name": "stderr",
     "output_type": "stream",
     "text": [
      "[Parallel(n_jobs=-1)]: Done   4 out of   4 | elapsed:    0.1s remaining:    0.0s\n",
      "[Parallel(n_jobs=-1)]: Done   4 out of   4 | elapsed:    0.1s finished\n",
      "[Parallel(n_jobs=-1)]: Using backend LokyBackend with 8 concurrent workers.\n"
     ]
    },
    {
     "name": "stdout",
     "output_type": "stream",
     "text": [
      "Fitting 2 folds for each of 2 candidates, totalling 4 fits\n"
     ]
    },
    {
     "name": "stderr",
     "output_type": "stream",
     "text": [
      "[Parallel(n_jobs=-1)]: Done   4 out of   4 | elapsed:    0.1s remaining:    0.0s\n",
      "[Parallel(n_jobs=-1)]: Done   4 out of   4 | elapsed:    0.1s finished\n",
      "[Parallel(n_jobs=-1)]: Using backend LokyBackend with 8 concurrent workers.\n"
     ]
    },
    {
     "name": "stdout",
     "output_type": "stream",
     "text": [
      "Fitting 2 folds for each of 2 candidates, totalling 4 fits\n"
     ]
    },
    {
     "name": "stderr",
     "output_type": "stream",
     "text": [
      "[Parallel(n_jobs=-1)]: Done   4 out of   4 | elapsed:    0.1s remaining:    0.0s\n",
      "[Parallel(n_jobs=-1)]: Done   4 out of   4 | elapsed:    0.1s finished\n",
      "[Parallel(n_jobs=-1)]: Using backend LokyBackend with 8 concurrent workers.\n"
     ]
    },
    {
     "name": "stdout",
     "output_type": "stream",
     "text": [
      "Fitting 2 folds for each of 2 candidates, totalling 4 fits\n"
     ]
    },
    {
     "name": "stderr",
     "output_type": "stream",
     "text": [
      "[Parallel(n_jobs=-1)]: Done   4 out of   4 | elapsed:    0.1s remaining:    0.0s\n",
      "[Parallel(n_jobs=-1)]: Done   4 out of   4 | elapsed:    0.1s finished\n",
      "[Parallel(n_jobs=-1)]: Using backend LokyBackend with 8 concurrent workers.\n"
     ]
    },
    {
     "name": "stdout",
     "output_type": "stream",
     "text": [
      "Fitting 2 folds for each of 2 candidates, totalling 4 fits\n",
      "Fitting 2 folds for each of 2 candidates, totalling 4 fits\n"
     ]
    },
    {
     "name": "stderr",
     "output_type": "stream",
     "text": [
      "[Parallel(n_jobs=-1)]: Done   4 out of   4 | elapsed:    0.1s remaining:    0.0s\n",
      "[Parallel(n_jobs=-1)]: Done   4 out of   4 | elapsed:    0.1s finished\n",
      "[Parallel(n_jobs=-1)]: Using backend LokyBackend with 8 concurrent workers.\n",
      "[Parallel(n_jobs=-1)]: Done   4 out of   4 | elapsed:    0.1s remaining:    0.0s\n",
      "[Parallel(n_jobs=-1)]: Done   4 out of   4 | elapsed:    0.1s finished\n",
      "[Parallel(n_jobs=-1)]: Using backend LokyBackend with 8 concurrent workers.\n"
     ]
    },
    {
     "name": "stdout",
     "output_type": "stream",
     "text": [
      "Fitting 2 folds for each of 2 candidates, totalling 4 fits\n"
     ]
    },
    {
     "name": "stderr",
     "output_type": "stream",
     "text": [
      "[Parallel(n_jobs=-1)]: Done   4 out of   4 | elapsed:    0.1s remaining:    0.0s\n",
      "[Parallel(n_jobs=-1)]: Done   4 out of   4 | elapsed:    0.1s finished\n",
      "[Parallel(n_jobs=-1)]: Using backend LokyBackend with 8 concurrent workers.\n"
     ]
    },
    {
     "name": "stdout",
     "output_type": "stream",
     "text": [
      "Fitting 2 folds for each of 2 candidates, totalling 4 fits\n"
     ]
    },
    {
     "name": "stderr",
     "output_type": "stream",
     "text": [
      "[Parallel(n_jobs=-1)]: Done   4 out of   4 | elapsed:    0.1s remaining:    0.0s\n",
      "[Parallel(n_jobs=-1)]: Done   4 out of   4 | elapsed:    0.1s finished\n",
      "[Parallel(n_jobs=-1)]: Using backend LokyBackend with 8 concurrent workers.\n"
     ]
    },
    {
     "name": "stdout",
     "output_type": "stream",
     "text": [
      "Fitting 2 folds for each of 2 candidates, totalling 4 fits\n"
     ]
    },
    {
     "name": "stderr",
     "output_type": "stream",
     "text": [
      "[Parallel(n_jobs=-1)]: Done   4 out of   4 | elapsed:    0.2s remaining:    0.0s\n",
      "[Parallel(n_jobs=-1)]: Done   4 out of   4 | elapsed:    0.2s finished\n",
      "[Parallel(n_jobs=-1)]: Using backend LokyBackend with 8 concurrent workers.\n"
     ]
    },
    {
     "name": "stdout",
     "output_type": "stream",
     "text": [
      "Fitting 2 folds for each of 2 candidates, totalling 4 fits\n"
     ]
    },
    {
     "name": "stderr",
     "output_type": "stream",
     "text": [
      "[Parallel(n_jobs=-1)]: Done   4 out of   4 | elapsed:    0.1s remaining:    0.0s\n",
      "[Parallel(n_jobs=-1)]: Done   4 out of   4 | elapsed:    0.1s finished\n",
      "[Parallel(n_jobs=-1)]: Using backend LokyBackend with 8 concurrent workers.\n",
      "[Parallel(n_jobs=-1)]: Done   4 out of   4 | elapsed:    0.1s remaining:    0.0s\n",
      "[Parallel(n_jobs=-1)]: Done   4 out of   4 | elapsed:    0.1s finished\n"
     ]
    },
    {
     "name": "stdout",
     "output_type": "stream",
     "text": [
      "Fitting 2 folds for each of 2 candidates, totalling 4 fits\n",
      "Fitting 2 folds for each of 2 candidates, totalling 4 fits\n"
     ]
    },
    {
     "name": "stderr",
     "output_type": "stream",
     "text": [
      "[Parallel(n_jobs=-1)]: Using backend LokyBackend with 8 concurrent workers.\n",
      "[Parallel(n_jobs=-1)]: Done   4 out of   4 | elapsed:    0.1s remaining:    0.0s\n",
      "[Parallel(n_jobs=-1)]: Done   4 out of   4 | elapsed:    0.1s finished\n"
     ]
    },
    {
     "name": "stdout",
     "output_type": "stream",
     "text": [
      "Fitting 2 folds for each of 2 candidates, totalling 4 fits\n"
     ]
    },
    {
     "name": "stderr",
     "output_type": "stream",
     "text": [
      "[Parallel(n_jobs=-1)]: Using backend LokyBackend with 8 concurrent workers.\n",
      "[Parallel(n_jobs=-1)]: Done   4 out of   4 | elapsed:    0.1s remaining:    0.0s\n",
      "[Parallel(n_jobs=-1)]: Done   4 out of   4 | elapsed:    0.1s finished\n"
     ]
    },
    {
     "name": "stdout",
     "output_type": "stream",
     "text": [
      "Fitting 2 folds for each of 2 candidates, totalling 4 fits\n"
     ]
    },
    {
     "name": "stderr",
     "output_type": "stream",
     "text": [
      "[Parallel(n_jobs=-1)]: Using backend LokyBackend with 8 concurrent workers.\n",
      "[Parallel(n_jobs=-1)]: Done   4 out of   4 | elapsed:    0.1s remaining:    0.0s\n",
      "[Parallel(n_jobs=-1)]: Done   4 out of   4 | elapsed:    0.1s finished\n"
     ]
    },
    {
     "name": "stdout",
     "output_type": "stream",
     "text": [
      "Fitting 2 folds for each of 2 candidates, totalling 4 fits\n"
     ]
    },
    {
     "name": "stderr",
     "output_type": "stream",
     "text": [
      "[Parallel(n_jobs=-1)]: Using backend LokyBackend with 8 concurrent workers.\n",
      "[Parallel(n_jobs=-1)]: Done   4 out of   4 | elapsed:    0.1s remaining:    0.0s\n",
      "[Parallel(n_jobs=-1)]: Done   4 out of   4 | elapsed:    0.1s finished\n"
     ]
    },
    {
     "name": "stdout",
     "output_type": "stream",
     "text": [
      "Fitting 2 folds for each of 2 candidates, totalling 4 fits\n"
     ]
    },
    {
     "name": "stderr",
     "output_type": "stream",
     "text": [
      "[Parallel(n_jobs=-1)]: Using backend LokyBackend with 8 concurrent workers.\n",
      "[Parallel(n_jobs=-1)]: Done   4 out of   4 | elapsed:    0.1s remaining:    0.0s\n",
      "[Parallel(n_jobs=-1)]: Done   4 out of   4 | elapsed:    0.1s finished\n"
     ]
    },
    {
     "name": "stdout",
     "output_type": "stream",
     "text": [
      "Fitting 2 folds for each of 2 candidates, totalling 4 fits\n"
     ]
    },
    {
     "name": "stderr",
     "output_type": "stream",
     "text": [
      "[Parallel(n_jobs=-1)]: Using backend LokyBackend with 8 concurrent workers.\n",
      "[Parallel(n_jobs=-1)]: Done   4 out of   4 | elapsed:    0.1s remaining:    0.0s\n",
      "[Parallel(n_jobs=-1)]: Done   4 out of   4 | elapsed:    0.1s finished\n"
     ]
    },
    {
     "name": "stdout",
     "output_type": "stream",
     "text": [
      "Fitting 2 folds for each of 2 candidates, totalling 4 fits\n"
     ]
    },
    {
     "name": "stderr",
     "output_type": "stream",
     "text": [
      "[Parallel(n_jobs=-1)]: Using backend LokyBackend with 8 concurrent workers.\n",
      "[Parallel(n_jobs=-1)]: Done   4 out of   4 | elapsed:    0.1s remaining:    0.0s\n",
      "[Parallel(n_jobs=-1)]: Done   4 out of   4 | elapsed:    0.1s finished\n"
     ]
    },
    {
     "name": "stdout",
     "output_type": "stream",
     "text": [
      "Fitting 2 folds for each of 2 candidates, totalling 4 fits\n"
     ]
    },
    {
     "name": "stderr",
     "output_type": "stream",
     "text": [
      "[Parallel(n_jobs=-1)]: Using backend LokyBackend with 8 concurrent workers.\n",
      "[Parallel(n_jobs=-1)]: Done   4 out of   4 | elapsed:    0.1s remaining:    0.0s\n",
      "[Parallel(n_jobs=-1)]: Done   4 out of   4 | elapsed:    0.1s finished\n"
     ]
    },
    {
     "name": "stdout",
     "output_type": "stream",
     "text": [
      "Fitting 2 folds for each of 2 candidates, totalling 4 fits\n"
     ]
    },
    {
     "name": "stderr",
     "output_type": "stream",
     "text": [
      "[Parallel(n_jobs=-1)]: Using backend LokyBackend with 8 concurrent workers.\n",
      "[Parallel(n_jobs=-1)]: Done   4 out of   4 | elapsed:    0.1s remaining:    0.0s\n",
      "[Parallel(n_jobs=-1)]: Done   4 out of   4 | elapsed:    0.1s finished\n"
     ]
    },
    {
     "name": "stdout",
     "output_type": "stream",
     "text": [
      "Fitting 2 folds for each of 2 candidates, totalling 4 fits\n"
     ]
    },
    {
     "name": "stderr",
     "output_type": "stream",
     "text": [
      "[Parallel(n_jobs=-1)]: Using backend LokyBackend with 8 concurrent workers.\n",
      "[Parallel(n_jobs=-1)]: Done   4 out of   4 | elapsed:    0.1s remaining:    0.0s\n",
      "[Parallel(n_jobs=-1)]: Done   4 out of   4 | elapsed:    0.1s finished\n"
     ]
    },
    {
     "name": "stdout",
     "output_type": "stream",
     "text": [
      "Fitting 2 folds for each of 2 candidates, totalling 4 fits\n"
     ]
    },
    {
     "name": "stderr",
     "output_type": "stream",
     "text": [
      "[Parallel(n_jobs=-1)]: Using backend LokyBackend with 8 concurrent workers.\n",
      "[Parallel(n_jobs=-1)]: Done   4 out of   4 | elapsed:    0.1s remaining:    0.0s\n",
      "[Parallel(n_jobs=-1)]: Done   4 out of   4 | elapsed:    0.1s finished\n"
     ]
    },
    {
     "name": "stdout",
     "output_type": "stream",
     "text": [
      "Fitting 2 folds for each of 2 candidates, totalling 4 fits\n",
      "Fitting 2 folds for each of 2 candidates, totalling 4 fits\n"
     ]
    },
    {
     "name": "stderr",
     "output_type": "stream",
     "text": [
      "[Parallel(n_jobs=-1)]: Using backend LokyBackend with 8 concurrent workers.\n",
      "[Parallel(n_jobs=-1)]: Done   4 out of   4 | elapsed:    0.1s remaining:    0.0s\n",
      "[Parallel(n_jobs=-1)]: Done   4 out of   4 | elapsed:    0.1s finished\n",
      "[Parallel(n_jobs=-1)]: Using backend LokyBackend with 8 concurrent workers.\n",
      "[Parallel(n_jobs=-1)]: Done   4 out of   4 | elapsed:    0.1s remaining:    0.0s\n",
      "[Parallel(n_jobs=-1)]: Done   4 out of   4 | elapsed:    0.1s finished\n",
      "[Parallel(n_jobs=-1)]: Using backend LokyBackend with 8 concurrent workers.\n"
     ]
    },
    {
     "name": "stdout",
     "output_type": "stream",
     "text": [
      "Fitting 2 folds for each of 2 candidates, totalling 4 fits\n"
     ]
    },
    {
     "name": "stderr",
     "output_type": "stream",
     "text": [
      "[Parallel(n_jobs=-1)]: Done   4 out of   4 | elapsed:    0.1s remaining:    0.0s\n",
      "[Parallel(n_jobs=-1)]: Done   4 out of   4 | elapsed:    0.1s finished\n",
      "[Parallel(n_jobs=-1)]: Using backend LokyBackend with 8 concurrent workers.\n"
     ]
    },
    {
     "name": "stdout",
     "output_type": "stream",
     "text": [
      "Fitting 2 folds for each of 2 candidates, totalling 4 fits\n",
      "Fitting 2 folds for each of 2 candidates, totalling 4 fits\n"
     ]
    },
    {
     "name": "stderr",
     "output_type": "stream",
     "text": [
      "[Parallel(n_jobs=-1)]: Done   4 out of   4 | elapsed:    0.1s remaining:    0.0s\n",
      "[Parallel(n_jobs=-1)]: Done   4 out of   4 | elapsed:    0.1s finished\n",
      "[Parallel(n_jobs=-1)]: Using backend LokyBackend with 8 concurrent workers.\n",
      "[Parallel(n_jobs=-1)]: Done   4 out of   4 | elapsed:    0.1s remaining:    0.0s\n",
      "[Parallel(n_jobs=-1)]: Done   4 out of   4 | elapsed:    0.1s finished\n",
      "[Parallel(n_jobs=-1)]: Using backend LokyBackend with 8 concurrent workers.\n"
     ]
    },
    {
     "name": "stdout",
     "output_type": "stream",
     "text": [
      "Fitting 2 folds for each of 2 candidates, totalling 4 fits\n"
     ]
    },
    {
     "name": "stderr",
     "output_type": "stream",
     "text": [
      "[Parallel(n_jobs=-1)]: Done   4 out of   4 | elapsed:    0.1s remaining:    0.0s\n",
      "[Parallel(n_jobs=-1)]: Done   4 out of   4 | elapsed:    0.1s finished\n",
      "[Parallel(n_jobs=-1)]: Using backend LokyBackend with 8 concurrent workers.\n"
     ]
    },
    {
     "name": "stdout",
     "output_type": "stream",
     "text": [
      "Fitting 2 folds for each of 2 candidates, totalling 4 fits\n"
     ]
    },
    {
     "name": "stderr",
     "output_type": "stream",
     "text": [
      "[Parallel(n_jobs=-1)]: Done   4 out of   4 | elapsed:    0.1s remaining:    0.0s\n",
      "[Parallel(n_jobs=-1)]: Done   4 out of   4 | elapsed:    0.1s finished\n",
      "[Parallel(n_jobs=-1)]: Using backend LokyBackend with 8 concurrent workers.\n"
     ]
    },
    {
     "name": "stdout",
     "output_type": "stream",
     "text": [
      "Fitting 2 folds for each of 2 candidates, totalling 4 fits\n"
     ]
    },
    {
     "name": "stderr",
     "output_type": "stream",
     "text": [
      "[Parallel(n_jobs=-1)]: Done   4 out of   4 | elapsed:    0.1s remaining:    0.0s\n",
      "[Parallel(n_jobs=-1)]: Done   4 out of   4 | elapsed:    0.1s finished\n",
      "[Parallel(n_jobs=-1)]: Using backend LokyBackend with 8 concurrent workers.\n"
     ]
    },
    {
     "name": "stdout",
     "output_type": "stream",
     "text": [
      "Fitting 2 folds for each of 2 candidates, totalling 4 fits\n"
     ]
    },
    {
     "name": "stderr",
     "output_type": "stream",
     "text": [
      "[Parallel(n_jobs=-1)]: Done   4 out of   4 | elapsed:    0.1s remaining:    0.0s\n",
      "[Parallel(n_jobs=-1)]: Done   4 out of   4 | elapsed:    0.1s finished\n",
      "[Parallel(n_jobs=-1)]: Using backend LokyBackend with 8 concurrent workers.\n"
     ]
    },
    {
     "name": "stdout",
     "output_type": "stream",
     "text": [
      "Fitting 2 folds for each of 2 candidates, totalling 4 fits\n",
      "Fitting 2 folds for each of 2 candidates, totalling 4 fits\n"
     ]
    },
    {
     "name": "stderr",
     "output_type": "stream",
     "text": [
      "[Parallel(n_jobs=-1)]: Done   4 out of   4 | elapsed:    0.1s remaining:    0.0s\n",
      "[Parallel(n_jobs=-1)]: Done   4 out of   4 | elapsed:    0.1s finished\n",
      "[Parallel(n_jobs=-1)]: Using backend LokyBackend with 8 concurrent workers.\n",
      "[Parallel(n_jobs=-1)]: Done   4 out of   4 | elapsed:    0.1s remaining:    0.0s\n",
      "[Parallel(n_jobs=-1)]: Done   4 out of   4 | elapsed:    0.1s finished\n",
      "[Parallel(n_jobs=-1)]: Using backend LokyBackend with 8 concurrent workers.\n"
     ]
    },
    {
     "name": "stdout",
     "output_type": "stream",
     "text": [
      "Fitting 2 folds for each of 2 candidates, totalling 4 fits\n"
     ]
    },
    {
     "name": "stderr",
     "output_type": "stream",
     "text": [
      "[Parallel(n_jobs=-1)]: Done   4 out of   4 | elapsed:    0.1s remaining:    0.0s\n",
      "[Parallel(n_jobs=-1)]: Done   4 out of   4 | elapsed:    0.1s finished\n",
      "[Parallel(n_jobs=-1)]: Using backend LokyBackend with 8 concurrent workers.\n"
     ]
    },
    {
     "name": "stdout",
     "output_type": "stream",
     "text": [
      "Fitting 2 folds for each of 2 candidates, totalling 4 fits\n"
     ]
    },
    {
     "name": "stderr",
     "output_type": "stream",
     "text": [
      "[Parallel(n_jobs=-1)]: Done   4 out of   4 | elapsed:    0.1s remaining:    0.0s\n",
      "[Parallel(n_jobs=-1)]: Done   4 out of   4 | elapsed:    0.1s finished\n",
      "[Parallel(n_jobs=-1)]: Using backend LokyBackend with 8 concurrent workers.\n"
     ]
    },
    {
     "name": "stdout",
     "output_type": "stream",
     "text": [
      "Fitting 2 folds for each of 2 candidates, totalling 4 fits\n"
     ]
    },
    {
     "name": "stderr",
     "output_type": "stream",
     "text": [
      "[Parallel(n_jobs=-1)]: Done   4 out of   4 | elapsed:    0.1s remaining:    0.0s\n",
      "[Parallel(n_jobs=-1)]: Done   4 out of   4 | elapsed:    0.1s finished\n",
      "[Parallel(n_jobs=-1)]: Using backend LokyBackend with 8 concurrent workers.\n"
     ]
    },
    {
     "name": "stdout",
     "output_type": "stream",
     "text": [
      "Fitting 2 folds for each of 2 candidates, totalling 4 fits\n"
     ]
    },
    {
     "name": "stderr",
     "output_type": "stream",
     "text": [
      "[Parallel(n_jobs=-1)]: Done   4 out of   4 | elapsed:    0.1s remaining:    0.0s\n",
      "[Parallel(n_jobs=-1)]: Done   4 out of   4 | elapsed:    0.1s finished\n",
      "[Parallel(n_jobs=-1)]: Using backend LokyBackend with 8 concurrent workers.\n"
     ]
    },
    {
     "name": "stdout",
     "output_type": "stream",
     "text": [
      "Fitting 2 folds for each of 2 candidates, totalling 4 fits\n"
     ]
    },
    {
     "name": "stderr",
     "output_type": "stream",
     "text": [
      "[Parallel(n_jobs=-1)]: Done   4 out of   4 | elapsed:    0.1s remaining:    0.0s\n",
      "[Parallel(n_jobs=-1)]: Done   4 out of   4 | elapsed:    0.1s finished\n",
      "[Parallel(n_jobs=-1)]: Using backend LokyBackend with 8 concurrent workers.\n"
     ]
    },
    {
     "name": "stdout",
     "output_type": "stream",
     "text": [
      "Fitting 2 folds for each of 2 candidates, totalling 4 fits\n"
     ]
    },
    {
     "name": "stderr",
     "output_type": "stream",
     "text": [
      "[Parallel(n_jobs=-1)]: Done   4 out of   4 | elapsed:    0.2s remaining:    0.0s\n",
      "[Parallel(n_jobs=-1)]: Done   4 out of   4 | elapsed:    0.2s finished\n",
      "[Parallel(n_jobs=-1)]: Using backend LokyBackend with 8 concurrent workers.\n"
     ]
    },
    {
     "name": "stdout",
     "output_type": "stream",
     "text": [
      "Fitting 2 folds for each of 2 candidates, totalling 4 fits\n"
     ]
    },
    {
     "name": "stderr",
     "output_type": "stream",
     "text": [
      "[Parallel(n_jobs=-1)]: Done   4 out of   4 | elapsed:    0.1s remaining:    0.0s\n",
      "[Parallel(n_jobs=-1)]: Done   4 out of   4 | elapsed:    0.1s finished\n",
      "[Parallel(n_jobs=-1)]: Using backend LokyBackend with 8 concurrent workers.\n"
     ]
    },
    {
     "name": "stdout",
     "output_type": "stream",
     "text": [
      "Fitting 2 folds for each of 2 candidates, totalling 4 fits\n"
     ]
    },
    {
     "name": "stderr",
     "output_type": "stream",
     "text": [
      "[Parallel(n_jobs=-1)]: Done   4 out of   4 | elapsed:    0.1s remaining:    0.0s\n",
      "[Parallel(n_jobs=-1)]: Done   4 out of   4 | elapsed:    0.1s finished\n",
      "[Parallel(n_jobs=-1)]: Using backend LokyBackend with 8 concurrent workers.\n"
     ]
    },
    {
     "name": "stdout",
     "output_type": "stream",
     "text": [
      "Fitting 2 folds for each of 2 candidates, totalling 4 fits\n"
     ]
    },
    {
     "name": "stderr",
     "output_type": "stream",
     "text": [
      "[Parallel(n_jobs=-1)]: Done   4 out of   4 | elapsed:    0.1s remaining:    0.0s\n",
      "[Parallel(n_jobs=-1)]: Done   4 out of   4 | elapsed:    0.1s finished\n",
      "[Parallel(n_jobs=-1)]: Using backend LokyBackend with 8 concurrent workers.\n"
     ]
    },
    {
     "name": "stdout",
     "output_type": "stream",
     "text": [
      "Fitting 2 folds for each of 2 candidates, totalling 4 fits\n"
     ]
    },
    {
     "name": "stderr",
     "output_type": "stream",
     "text": [
      "[Parallel(n_jobs=-1)]: Done   4 out of   4 | elapsed:    0.1s remaining:    0.0s\n",
      "[Parallel(n_jobs=-1)]: Done   4 out of   4 | elapsed:    0.1s finished\n",
      "[Parallel(n_jobs=-1)]: Using backend LokyBackend with 8 concurrent workers.\n"
     ]
    },
    {
     "name": "stdout",
     "output_type": "stream",
     "text": [
      "Fitting 2 folds for each of 2 candidates, totalling 4 fits\n",
      "Fitting 2 folds for each of 2 candidates, totalling 4 fits\n"
     ]
    },
    {
     "name": "stderr",
     "output_type": "stream",
     "text": [
      "[Parallel(n_jobs=-1)]: Done   4 out of   4 | elapsed:    0.1s remaining:    0.0s\n",
      "[Parallel(n_jobs=-1)]: Done   4 out of   4 | elapsed:    0.1s finished\n",
      "[Parallel(n_jobs=-1)]: Using backend LokyBackend with 8 concurrent workers.\n",
      "[Parallel(n_jobs=-1)]: Done   4 out of   4 | elapsed:    0.1s remaining:    0.0s\n",
      "[Parallel(n_jobs=-1)]: Done   4 out of   4 | elapsed:    0.1s finished\n",
      "[Parallel(n_jobs=-1)]: Using backend LokyBackend with 8 concurrent workers.\n"
     ]
    },
    {
     "name": "stdout",
     "output_type": "stream",
     "text": [
      "Fitting 2 folds for each of 2 candidates, totalling 4 fits\n"
     ]
    },
    {
     "name": "stderr",
     "output_type": "stream",
     "text": [
      "[Parallel(n_jobs=-1)]: Done   4 out of   4 | elapsed:    0.1s remaining:    0.0s\n",
      "[Parallel(n_jobs=-1)]: Done   4 out of   4 | elapsed:    0.1s finished\n",
      "[Parallel(n_jobs=-1)]: Using backend LokyBackend with 8 concurrent workers.\n",
      "[Parallel(n_jobs=-1)]: Done   4 out of   4 | elapsed:    0.1s remaining:    0.0s\n",
      "[Parallel(n_jobs=-1)]: Done   4 out of   4 | elapsed:    0.1s finished\n"
     ]
    },
    {
     "name": "stdout",
     "output_type": "stream",
     "text": [
      "Fitting 2 folds for each of 2 candidates, totalling 4 fits\n",
      "Fitting 2 folds for each of 2 candidates, totalling 4 fits\n"
     ]
    },
    {
     "name": "stderr",
     "output_type": "stream",
     "text": [
      "[Parallel(n_jobs=-1)]: Using backend LokyBackend with 8 concurrent workers.\n",
      "[Parallel(n_jobs=-1)]: Done   4 out of   4 | elapsed:    0.1s remaining:    0.0s\n",
      "[Parallel(n_jobs=-1)]: Done   4 out of   4 | elapsed:    0.1s finished\n"
     ]
    },
    {
     "name": "stdout",
     "output_type": "stream",
     "text": [
      "Fitting 2 folds for each of 2 candidates, totalling 4 fits\n"
     ]
    },
    {
     "name": "stderr",
     "output_type": "stream",
     "text": [
      "[Parallel(n_jobs=-1)]: Using backend LokyBackend with 8 concurrent workers.\n",
      "[Parallel(n_jobs=-1)]: Done   4 out of   4 | elapsed:    0.1s remaining:    0.0s\n",
      "[Parallel(n_jobs=-1)]: Done   4 out of   4 | elapsed:    0.1s finished\n"
     ]
    },
    {
     "name": "stdout",
     "output_type": "stream",
     "text": [
      "Fitting 2 folds for each of 2 candidates, totalling 4 fits\n"
     ]
    },
    {
     "name": "stderr",
     "output_type": "stream",
     "text": [
      "[Parallel(n_jobs=-1)]: Using backend LokyBackend with 8 concurrent workers.\n",
      "[Parallel(n_jobs=-1)]: Done   4 out of   4 | elapsed:    0.1s remaining:    0.0s\n",
      "[Parallel(n_jobs=-1)]: Done   4 out of   4 | elapsed:    0.1s finished\n"
     ]
    },
    {
     "name": "stdout",
     "output_type": "stream",
     "text": [
      "Fitting 2 folds for each of 2 candidates, totalling 4 fits\n",
      "Fitting 2 folds for each of 2 candidates, totalling 4 fits\n"
     ]
    },
    {
     "name": "stderr",
     "output_type": "stream",
     "text": [
      "[Parallel(n_jobs=-1)]: Using backend LokyBackend with 8 concurrent workers.\n",
      "[Parallel(n_jobs=-1)]: Done   4 out of   4 | elapsed:    0.1s remaining:    0.0s\n",
      "[Parallel(n_jobs=-1)]: Done   4 out of   4 | elapsed:    0.1s finished\n",
      "[Parallel(n_jobs=-1)]: Using backend LokyBackend with 8 concurrent workers.\n",
      "[Parallel(n_jobs=-1)]: Done   4 out of   4 | elapsed:    0.1s remaining:    0.0s\n",
      "[Parallel(n_jobs=-1)]: Done   4 out of   4 | elapsed:    0.1s finished\n",
      "[Parallel(n_jobs=-1)]: Using backend LokyBackend with 8 concurrent workers.\n"
     ]
    },
    {
     "name": "stdout",
     "output_type": "stream",
     "text": [
      "Fitting 2 folds for each of 2 candidates, totalling 4 fits\n",
      "Fitting 2 folds for each of 2 candidates, totalling 4 fits\n"
     ]
    },
    {
     "name": "stderr",
     "output_type": "stream",
     "text": [
      "[Parallel(n_jobs=-1)]: Done   4 out of   4 | elapsed:    0.1s remaining:    0.0s\n",
      "[Parallel(n_jobs=-1)]: Done   4 out of   4 | elapsed:    0.1s finished\n",
      "[Parallel(n_jobs=-1)]: Using backend LokyBackend with 8 concurrent workers.\n",
      "[Parallel(n_jobs=-1)]: Done   4 out of   4 | elapsed:    0.1s remaining:    0.0s\n",
      "[Parallel(n_jobs=-1)]: Done   4 out of   4 | elapsed:    0.1s finished\n",
      "[Parallel(n_jobs=-1)]: Using backend LokyBackend with 8 concurrent workers.\n"
     ]
    },
    {
     "name": "stdout",
     "output_type": "stream",
     "text": [
      "Fitting 2 folds for each of 2 candidates, totalling 4 fits\n"
     ]
    },
    {
     "name": "stderr",
     "output_type": "stream",
     "text": [
      "[Parallel(n_jobs=-1)]: Done   4 out of   4 | elapsed:    0.1s remaining:    0.0s\n",
      "[Parallel(n_jobs=-1)]: Done   4 out of   4 | elapsed:    0.1s finished\n"
     ]
    }
   ],
   "source": [
    "sklearn_cleaner.fit(task.train_data)\n",
    "sklearn_cleaner_evaluator = AutoCleaningEvaluator(task, sklearn_cleaner)"
   ]
  },
  {
   "cell_type": "code",
   "execution_count": 14,
   "metadata": {},
   "outputs": [
    {
     "name": "stdout",
     "output_type": "stream",
     "text": [
      "0.7999999999999999\n",
      "0.7617647058823529\n",
      "Column a contained 0 nans before, now 33\n",
      "Column b contained 0 nans before, now 9\n",
      "Column c contained 0 nans before, now 15\n",
      "Column d contained 0 nans before, now 4\n",
      "Column e contained 0 nans before, now 8\n",
      "Column f contained 0 nans before, now 5\n",
      "Column g contained 0 nans before, now 9\n",
      "Column h contained 0 nans before, now 11\n",
      "Column i contained 0 nans before, now 5\n",
      "Column j contained 0 nans before, now 10\n",
      "Column k contained 0 nans before, now 11\n",
      "Column l contained 0 nans before, now 10\n",
      "Column m contained 0 nans before, now 15\n",
      "Column n contained 0 nans before, now 5\n",
      "Column o contained 0 nans before, now 9\n",
      "Column p contained 0 nans before, now 17\n",
      "Column r contained 0 nans before, now 7\n",
      "Column s contained 0 nans before, now 8\n",
      "Column t contained 0 nans before, now 7\n",
      "Column u contained 0 nans before, now 23\n",
      "Column v contained 0 nans before, now 17\n",
      "Column z contained 0 nans before, now 21\n",
      "Column aa contained 0 nans before, now 14\n",
      "Column ab contained 0 nans before, now 25\n",
      "Column ac contained 0 nans before, now 10\n",
      "Column ad contained 0 nans before, now 27\n",
      "Column ae contained 0 nans before, now 33\n",
      "Column af contained 0 nans before, now 15\n",
      "Column ag contained 0 nans before, now 3\n",
      "Column ah contained 0 nans before, now 8\n",
      "Column ai contained 0 nans before, now 16\n",
      "Column aj contained 0 nans before, now 16\n",
      "Column ak contained 0 nans before, now 35\n",
      "Column al contained 0 nans before, now 34\n",
      "Column am contained 0 nans before, now 26\n",
      "Column an contained 0 nans before, now 12\n",
      "Column ao contained 0 nans before, now 22\n",
      "Column ap contained 0 nans before, now 7\n",
      "Column ar contained 0 nans before, now 28\n",
      "0.5764705882352941\n",
      "0.7617647058823529\n",
      "Imputed 33 values in column a\n",
      "Imputed 9 values in column b\n",
      "Imputed 15 values in column c\n",
      "Imputed 4 values in column d\n",
      "Imputed 8 values in column e\n",
      "Imputed 5 values in column f\n",
      "Imputed 9 values in column g\n",
      "Imputed 11 values in column h\n",
      "Imputed 5 values in column i\n",
      "Imputed 10 values in column j\n",
      "Imputed 11 values in column k\n",
      "Imputed 10 values in column l\n",
      "Imputed 15 values in column m\n",
      "Imputed 5 values in column n\n",
      "Imputed 9 values in column o\n",
      "Imputed 17 values in column p\n",
      "Imputed 7 values in column r\n",
      "Imputed 8 values in column s\n",
      "Imputed 7 values in column t\n",
      "Imputed 23 values in column u\n",
      "Imputed 17 values in column v\n",
      "Imputed 21 values in column z\n",
      "Imputed 14 values in column aa\n",
      "Imputed 25 values in column ab\n",
      "Imputed 10 values in column ac\n",
      "Imputed 27 values in column ad\n",
      "Imputed 33 values in column ae\n",
      "Imputed 15 values in column af\n",
      "Imputed 3 values in column ag\n",
      "Imputed 8 values in column ah\n",
      "Imputed 16 values in column ai\n",
      "Imputed 16 values in column aj\n",
      "Imputed 35 values in column ak\n",
      "Imputed 34 values in column al\n",
      "Imputed 26 values in column am\n",
      "Imputed 12 values in column an\n",
      "Imputed 22 values in column ao\n",
      "Imputed 7 values in column ap\n",
      "Imputed 28 values in column ar\n",
      "0.5764705882352941\n",
      "0/10 (0.504681999999999)\n",
      "0.7617647058823529\n",
      "Column a contained 0 nans before, now 33\n",
      "Column b contained 0 nans before, now 9\n",
      "Column c contained 0 nans before, now 15\n",
      "Column d contained 0 nans before, now 4\n",
      "Column e contained 0 nans before, now 8\n",
      "Column f contained 0 nans before, now 5\n",
      "Column g contained 0 nans before, now 9\n",
      "Column h contained 0 nans before, now 11\n",
      "Column i contained 0 nans before, now 5\n",
      "Column j contained 0 nans before, now 10\n",
      "Column k contained 0 nans before, now 11\n",
      "Column l contained 0 nans before, now 10\n",
      "Column m contained 0 nans before, now 15\n",
      "Column n contained 0 nans before, now 5\n",
      "Column o contained 0 nans before, now 9\n",
      "Column p contained 0 nans before, now 17\n",
      "Column r contained 0 nans before, now 7\n",
      "Column s contained 0 nans before, now 8\n",
      "Column t contained 0 nans before, now 7\n",
      "Column u contained 0 nans before, now 23\n",
      "Column v contained 0 nans before, now 17\n",
      "Column z contained 0 nans before, now 21\n",
      "Column aa contained 0 nans before, now 14\n",
      "Column ab contained 0 nans before, now 25\n",
      "Column ac contained 0 nans before, now 10\n",
      "Column ad contained 0 nans before, now 27\n",
      "Column ae contained 0 nans before, now 33\n",
      "Column af contained 0 nans before, now 15\n",
      "Column ag contained 0 nans before, now 3\n",
      "Column ah contained 0 nans before, now 8\n",
      "Column ai contained 0 nans before, now 16\n",
      "Column aj contained 0 nans before, now 16\n",
      "Column ak contained 0 nans before, now 35\n",
      "Column al contained 0 nans before, now 34\n",
      "Column am contained 0 nans before, now 26\n",
      "Column an contained 0 nans before, now 12\n",
      "Column ao contained 0 nans before, now 22\n",
      "Column ap contained 0 nans before, now 7\n",
      "Column ar contained 0 nans before, now 28\n",
      "0.5764705882352941\n",
      "0.7617647058823529\n",
      "Imputed 33 values in column a\n",
      "Imputed 9 values in column b\n",
      "Imputed 15 values in column c\n",
      "Imputed 4 values in column d\n",
      "Imputed 8 values in column e\n",
      "Imputed 5 values in column f\n",
      "Imputed 9 values in column g\n",
      "Imputed 11 values in column h\n",
      "Imputed 5 values in column i\n",
      "Imputed 10 values in column j\n",
      "Imputed 11 values in column k\n",
      "Imputed 10 values in column l\n",
      "Imputed 15 values in column m\n",
      "Imputed 5 values in column n\n",
      "Imputed 9 values in column o\n",
      "Imputed 17 values in column p\n",
      "Imputed 7 values in column r\n",
      "Imputed 8 values in column s\n",
      "Imputed 7 values in column t\n",
      "Imputed 23 values in column u\n",
      "Imputed 17 values in column v\n",
      "Imputed 21 values in column z\n",
      "Imputed 14 values in column aa\n",
      "Imputed 25 values in column ab\n",
      "Imputed 10 values in column ac\n",
      "Imputed 27 values in column ad\n",
      "Imputed 33 values in column ae\n",
      "Imputed 15 values in column af\n",
      "Imputed 3 values in column ag\n",
      "Imputed 8 values in column ah\n",
      "Imputed 16 values in column ai\n",
      "Imputed 16 values in column aj\n",
      "Imputed 35 values in column ak\n",
      "Imputed 34 values in column al\n",
      "Imputed 26 values in column am\n",
      "Imputed 12 values in column an\n",
      "Imputed 22 values in column ao\n",
      "Imputed 7 values in column ap\n",
      "Imputed 28 values in column ar\n",
      "0.5764705882352941\n",
      "0.7823529411764706\n",
      "Column a contained 0 nans before, now 33\n",
      "Column b contained 0 nans before, now 9\n",
      "Column c contained 0 nans before, now 15\n",
      "Column d contained 0 nans before, now 4\n",
      "Column e contained 0 nans before, now 8\n",
      "Column f contained 0 nans before, now 5\n",
      "Column g contained 0 nans before, now 9\n",
      "Column h contained 0 nans before, now 11\n",
      "Column i contained 0 nans before, now 5\n",
      "Column j contained 0 nans before, now 10\n",
      "Column k contained 0 nans before, now 11\n",
      "Column l contained 0 nans before, now 10\n",
      "Column m contained 0 nans before, now 15\n",
      "Column n contained 0 nans before, now 5\n",
      "Column o contained 0 nans before, now 9\n",
      "Column p contained 0 nans before, now 17\n",
      "Column r contained 0 nans before, now 7\n",
      "Column s contained 0 nans before, now 8\n",
      "Column t contained 0 nans before, now 7\n",
      "Column u contained 0 nans before, now 23\n",
      "Column v contained 0 nans before, now 17\n",
      "Column z contained 0 nans before, now 21\n",
      "Column aa contained 0 nans before, now 14\n",
      "Column ab contained 0 nans before, now 25\n",
      "Column ac contained 0 nans before, now 10\n",
      "Column ad contained 0 nans before, now 27\n",
      "Column ae contained 0 nans before, now 33\n",
      "Column af contained 0 nans before, now 15\n",
      "Column ag contained 0 nans before, now 3\n",
      "Column ah contained 0 nans before, now 8\n",
      "Column ai contained 0 nans before, now 16\n",
      "Column aj contained 0 nans before, now 16\n",
      "Column ak contained 0 nans before, now 35\n",
      "Column al contained 0 nans before, now 34\n",
      "Column am contained 0 nans before, now 26\n",
      "Column an contained 0 nans before, now 12\n",
      "Column ao contained 0 nans before, now 22\n",
      "Column ap contained 0 nans before, now 7\n",
      "Column ar contained 0 nans before, now 28\n",
      "0.5764705882352941\n",
      "0.7823529411764706\n",
      "Imputed 33 values in column a\n",
      "Imputed 9 values in column b\n",
      "Imputed 15 values in column c\n",
      "Imputed 4 values in column d\n",
      "Imputed 8 values in column e\n",
      "Imputed 5 values in column f\n",
      "Imputed 9 values in column g\n",
      "Imputed 11 values in column h\n",
      "Imputed 5 values in column i\n",
      "Imputed 10 values in column j\n",
      "Imputed 11 values in column k\n",
      "Imputed 10 values in column l\n",
      "Imputed 15 values in column m\n",
      "Imputed 5 values in column n\n",
      "Imputed 9 values in column o\n",
      "Imputed 17 values in column p\n",
      "Imputed 7 values in column r\n",
      "Imputed 8 values in column s\n",
      "Imputed 7 values in column t\n",
      "Imputed 23 values in column u\n",
      "Imputed 17 values in column v\n",
      "Imputed 21 values in column z\n",
      "Imputed 14 values in column aa\n",
      "Imputed 25 values in column ab\n",
      "Imputed 10 values in column ac\n",
      "Imputed 27 values in column ad\n",
      "Imputed 33 values in column ae\n",
      "Imputed 15 values in column af\n",
      "Imputed 3 values in column ag\n",
      "Imputed 8 values in column ah\n",
      "Imputed 16 values in column ai\n",
      "Imputed 16 values in column aj\n",
      "Imputed 35 values in column ak\n",
      "Imputed 34 values in column al\n",
      "Imputed 26 values in column am\n",
      "Imputed 12 values in column an\n",
      "Imputed 22 values in column ao\n",
      "Imputed 7 values in column ap\n",
      "Imputed 28 values in column ar\n",
      "0.5764705882352941\n",
      "0.7823529411764706\n",
      "Column a contained 0 nans before, now 33\n"
     ]
    },
    {
     "name": "stdout",
     "output_type": "stream",
     "text": [
      "Column b contained 0 nans before, now 9\n",
      "Column c contained 0 nans before, now 15\n",
      "Column d contained 0 nans before, now 4\n",
      "Column e contained 0 nans before, now 8\n",
      "Column f contained 0 nans before, now 5\n",
      "Column g contained 0 nans before, now 9\n",
      "Column h contained 0 nans before, now 11\n",
      "Column i contained 0 nans before, now 5\n",
      "Column j contained 0 nans before, now 10\n",
      "Column k contained 0 nans before, now 11\n",
      "Column l contained 0 nans before, now 10\n",
      "Column m contained 0 nans before, now 15\n",
      "Column n contained 0 nans before, now 5\n",
      "Column o contained 0 nans before, now 9\n",
      "Column p contained 0 nans before, now 17\n",
      "Column r contained 0 nans before, now 7\n",
      "Column s contained 0 nans before, now 8\n",
      "Column t contained 0 nans before, now 7\n",
      "Column u contained 0 nans before, now 23\n",
      "Column v contained 0 nans before, now 17\n",
      "Column z contained 0 nans before, now 21\n",
      "Column aa contained 0 nans before, now 14\n",
      "Column ab contained 0 nans before, now 25\n",
      "Column ac contained 0 nans before, now 10\n",
      "Column ad contained 0 nans before, now 27\n",
      "Column ae contained 0 nans before, now 33\n",
      "Column af contained 0 nans before, now 15\n",
      "Column ag contained 0 nans before, now 3\n",
      "Column ah contained 0 nans before, now 8\n",
      "Column ai contained 0 nans before, now 16\n",
      "Column aj contained 0 nans before, now 16\n",
      "Column ak contained 0 nans before, now 35\n",
      "Column al contained 0 nans before, now 34\n",
      "Column am contained 0 nans before, now 26\n",
      "Column an contained 0 nans before, now 12\n",
      "Column ao contained 0 nans before, now 22\n",
      "Column ap contained 0 nans before, now 7\n",
      "Column ar contained 0 nans before, now 28\n",
      "0.5764705882352941\n",
      "0.7823529411764706\n",
      "Imputed 33 values in column a\n",
      "Imputed 9 values in column b\n",
      "Imputed 15 values in column c\n",
      "Imputed 4 values in column d\n",
      "Imputed 8 values in column e\n",
      "Imputed 5 values in column f\n",
      "Imputed 9 values in column g\n",
      "Imputed 11 values in column h\n",
      "Imputed 5 values in column i\n",
      "Imputed 10 values in column j\n",
      "Imputed 11 values in column k\n",
      "Imputed 10 values in column l\n",
      "Imputed 15 values in column m\n",
      "Imputed 5 values in column n\n",
      "Imputed 9 values in column o\n",
      "Imputed 17 values in column p\n",
      "Imputed 7 values in column r\n",
      "Imputed 8 values in column s\n",
      "Imputed 7 values in column t\n",
      "Imputed 23 values in column u\n",
      "Imputed 17 values in column v\n",
      "Imputed 21 values in column z\n",
      "Imputed 14 values in column aa\n",
      "Imputed 25 values in column ab\n",
      "Imputed 10 values in column ac\n",
      "Imputed 27 values in column ad\n",
      "Imputed 33 values in column ae\n",
      "Imputed 15 values in column af\n",
      "Imputed 3 values in column ag\n",
      "Imputed 8 values in column ah\n",
      "Imputed 16 values in column ai\n",
      "Imputed 16 values in column aj\n",
      "Imputed 35 values in column ak\n",
      "Imputed 34 values in column al\n",
      "Imputed 26 values in column am\n",
      "Imputed 12 values in column an\n",
      "Imputed 22 values in column ao\n",
      "Imputed 7 values in column ap\n",
      "Imputed 28 values in column ar\n",
      "0.5764705882352941\n",
      "0.7617647058823529\n",
      "Column a contained 0 nans before, now 33\n",
      "Column b contained 0 nans before, now 9\n",
      "Column c contained 0 nans before, now 15\n",
      "Column d contained 0 nans before, now 4\n",
      "Column e contained 0 nans before, now 8\n",
      "Column f contained 0 nans before, now 5\n",
      "Column g contained 0 nans before, now 9\n",
      "Column h contained 0 nans before, now 11\n",
      "Column i contained 0 nans before, now 5\n",
      "Column j contained 0 nans before, now 10\n",
      "Column k contained 0 nans before, now 11\n",
      "Column l contained 0 nans before, now 10\n",
      "Column m contained 0 nans before, now 15\n",
      "Column n contained 0 nans before, now 5\n",
      "Column o contained 0 nans before, now 9\n",
      "Column p contained 0 nans before, now 17\n",
      "Column r contained 0 nans before, now 7\n",
      "Column s contained 0 nans before, now 8\n",
      "Column t contained 0 nans before, now 7\n",
      "Column u contained 0 nans before, now 23\n",
      "Column v contained 0 nans before, now 17\n",
      "Column z contained 0 nans before, now 21\n",
      "Column aa contained 0 nans before, now 14\n",
      "Column ab contained 0 nans before, now 25\n",
      "Column ac contained 0 nans before, now 10\n",
      "Column ad contained 0 nans before, now 27\n",
      "Column ae contained 0 nans before, now 33\n",
      "Column af contained 0 nans before, now 15\n",
      "Column ag contained 0 nans before, now 3\n",
      "Column ah contained 0 nans before, now 8\n",
      "Column ai contained 0 nans before, now 16\n",
      "Column aj contained 0 nans before, now 16\n",
      "Column ak contained 0 nans before, now 35\n",
      "Column al contained 0 nans before, now 34\n",
      "Column am contained 0 nans before, now 26\n",
      "Column an contained 0 nans before, now 12\n",
      "Column ao contained 0 nans before, now 22\n",
      "Column ap contained 0 nans before, now 7\n",
      "Column ar contained 0 nans before, now 28\n",
      "0.5764705882352941\n",
      "0.7617647058823529\n",
      "Imputed 33 values in column a\n",
      "Imputed 9 values in column b\n",
      "Imputed 15 values in column c\n",
      "Imputed 4 values in column d\n",
      "Imputed 8 values in column e\n",
      "Imputed 5 values in column f\n",
      "Imputed 9 values in column g\n",
      "Imputed 11 values in column h\n",
      "Imputed 5 values in column i\n",
      "Imputed 10 values in column j\n",
      "Imputed 11 values in column k\n",
      "Imputed 10 values in column l\n",
      "Imputed 15 values in column m\n",
      "Imputed 5 values in column n\n",
      "Imputed 9 values in column o\n",
      "Imputed 17 values in column p\n",
      "Imputed 7 values in column r\n",
      "Imputed 8 values in column s\n",
      "Imputed 7 values in column t\n",
      "Imputed 23 values in column u\n",
      "Imputed 17 values in column v\n",
      "Imputed 21 values in column z\n",
      "Imputed 14 values in column aa\n",
      "Imputed 25 values in column ab\n",
      "Imputed 10 values in column ac\n",
      "Imputed 27 values in column ad\n",
      "Imputed 33 values in column ae\n",
      "Imputed 15 values in column af\n",
      "Imputed 3 values in column ag\n",
      "Imputed 8 values in column ah\n",
      "Imputed 16 values in column ai\n",
      "Imputed 16 values in column aj\n",
      "Imputed 35 values in column ak\n",
      "Imputed 34 values in column al\n",
      "Imputed 26 values in column am\n",
      "Imputed 12 values in column an\n",
      "Imputed 22 values in column ao\n",
      "Imputed 7 values in column ap\n",
      "Imputed 28 values in column ar\n",
      "0.5764705882352941\n",
      "0.8\n",
      "Column a contained 39 nans before, now 39\n",
      "Column b contained 0 nans before, now 9\n",
      "Column c contained 0 nans before, now 15\n",
      "Column d contained 0 nans before, now 4\n",
      "Column e contained 0 nans before, now 8\n",
      "Column f contained 0 nans before, now 5\n",
      "Column g contained 0 nans before, now 9\n",
      "Column h contained 0 nans before, now 11\n",
      "Column i contained 0 nans before, now 5\n",
      "Column j contained 0 nans before, now 10\n",
      "Column k contained 0 nans before, now 11\n",
      "Column l contained 0 nans before, now 10\n",
      "Column m contained 0 nans before, now 15\n",
      "Column n contained 0 nans before, now 5\n",
      "Column o contained 0 nans before, now 9\n",
      "Column p contained 0 nans before, now 17\n",
      "Column r contained 0 nans before, now 7\n",
      "Column s contained 0 nans before, now 8\n",
      "Column t contained 0 nans before, now 7\n",
      "Column u contained 0 nans before, now 23\n",
      "Column v contained 0 nans before, now 17\n",
      "Column z contained 0 nans before, now 21\n",
      "Column aa contained 0 nans before, now 14\n",
      "Column ab contained 0 nans before, now 25\n",
      "Column ac contained 0 nans before, now 10\n",
      "Column ad contained 0 nans before, now 27\n",
      "Column ae contained 0 nans before, now 33\n",
      "Column af contained 0 nans before, now 15\n",
      "Column ag contained 0 nans before, now 3\n",
      "Column ah contained 0 nans before, now 8\n",
      "Column ai contained 0 nans before, now 16\n",
      "Column aj contained 0 nans before, now 16\n",
      "Column ak contained 0 nans before, now 35\n",
      "Column al contained 0 nans before, now 34\n",
      "Column am contained 0 nans before, now 26\n",
      "Column an contained 0 nans before, now 12\n",
      "Column ao contained 0 nans before, now 22\n",
      "Column ap contained 0 nans before, now 7\n",
      "Column ar contained 0 nans before, now 28\n",
      "0.5764705882352941\n",
      "Imputed 39 values in column a\n",
      "0.7941176470588236\n",
      "Imputed 39 values in column a\n",
      "Imputed 9 values in column b\n",
      "Imputed 15 values in column c\n",
      "Imputed 4 values in column d\n",
      "Imputed 8 values in column e\n",
      "Imputed 5 values in column f\n",
      "Imputed 9 values in column g\n",
      "Imputed 11 values in column h\n",
      "Imputed 5 values in column i\n",
      "Imputed 10 values in column j\n",
      "Imputed 11 values in column k\n",
      "Imputed 10 values in column l\n",
      "Imputed 15 values in column m\n",
      "Imputed 5 values in column n\n",
      "Imputed 9 values in column o\n",
      "Imputed 17 values in column p\n",
      "Imputed 7 values in column r\n",
      "Imputed 8 values in column s\n",
      "Imputed 7 values in column t\n",
      "Imputed 23 values in column u\n",
      "Imputed 17 values in column v\n",
      "Imputed 21 values in column z\n",
      "Imputed 14 values in column aa\n",
      "Imputed 25 values in column ab\n",
      "Imputed 10 values in column ac\n",
      "Imputed 27 values in column ad\n",
      "Imputed 33 values in column ae\n",
      "Imputed 15 values in column af\n",
      "Imputed 3 values in column ag\n",
      "Imputed 8 values in column ah\n",
      "Imputed 16 values in column ai\n",
      "Imputed 16 values in column aj\n",
      "Imputed 35 values in column ak\n",
      "Imputed 34 values in column al\n",
      "Imputed 26 values in column am\n",
      "Imputed 12 values in column an\n",
      "Imputed 22 values in column ao\n",
      "Imputed 7 values in column ap\n",
      "Imputed 28 values in column ar\n",
      "0.5705882352941176\n",
      "0.8\n"
     ]
    },
    {
     "name": "stdout",
     "output_type": "stream",
     "text": [
      "Column a contained 39 nans before, now 39\n",
      "Column b contained 0 nans before, now 9\n",
      "Column c contained 0 nans before, now 15\n",
      "Column d contained 0 nans before, now 4\n",
      "Column e contained 0 nans before, now 8\n",
      "Column f contained 0 nans before, now 5\n",
      "Column g contained 0 nans before, now 9\n",
      "Column h contained 0 nans before, now 11\n",
      "Column i contained 0 nans before, now 5\n",
      "Column j contained 0 nans before, now 10\n",
      "Column k contained 0 nans before, now 11\n",
      "Column l contained 0 nans before, now 10\n",
      "Column m contained 0 nans before, now 15\n",
      "Column n contained 0 nans before, now 5\n",
      "Column o contained 0 nans before, now 9\n",
      "Column p contained 0 nans before, now 17\n",
      "Column r contained 0 nans before, now 7\n",
      "Column s contained 0 nans before, now 8\n",
      "Column t contained 0 nans before, now 7\n",
      "Column u contained 0 nans before, now 23\n",
      "Column v contained 0 nans before, now 17\n",
      "Column z contained 0 nans before, now 21\n",
      "Column aa contained 0 nans before, now 14\n",
      "Column ab contained 0 nans before, now 25\n",
      "Column ac contained 0 nans before, now 10\n",
      "Column ad contained 0 nans before, now 27\n",
      "Column ae contained 0 nans before, now 33\n",
      "Column af contained 0 nans before, now 15\n",
      "Column ag contained 0 nans before, now 3\n",
      "Column ah contained 0 nans before, now 8\n",
      "Column ai contained 0 nans before, now 16\n",
      "Column aj contained 0 nans before, now 16\n",
      "Column ak contained 0 nans before, now 35\n",
      "Column al contained 0 nans before, now 34\n",
      "Column am contained 0 nans before, now 26\n",
      "Column an contained 0 nans before, now 12\n",
      "Column ao contained 0 nans before, now 22\n",
      "Column ap contained 0 nans before, now 7\n",
      "Column ar contained 0 nans before, now 28\n",
      "0.5764705882352941\n",
      "Imputed 39 values in column a\n",
      "0.7941176470588236\n",
      "Imputed 39 values in column a\n",
      "Imputed 9 values in column b\n",
      "Imputed 15 values in column c\n",
      "Imputed 4 values in column d\n",
      "Imputed 8 values in column e\n",
      "Imputed 5 values in column f\n",
      "Imputed 9 values in column g\n",
      "Imputed 11 values in column h\n",
      "Imputed 5 values in column i\n",
      "Imputed 10 values in column j\n",
      "Imputed 11 values in column k\n",
      "Imputed 10 values in column l\n",
      "Imputed 15 values in column m\n",
      "Imputed 5 values in column n\n",
      "Imputed 9 values in column o\n",
      "Imputed 17 values in column p\n",
      "Imputed 7 values in column r\n",
      "Imputed 8 values in column s\n",
      "Imputed 7 values in column t\n",
      "Imputed 23 values in column u\n",
      "Imputed 17 values in column v\n",
      "Imputed 21 values in column z\n",
      "Imputed 14 values in column aa\n",
      "Imputed 25 values in column ab\n",
      "Imputed 10 values in column ac\n",
      "Imputed 27 values in column ad\n",
      "Imputed 33 values in column ae\n",
      "Imputed 15 values in column af\n",
      "Imputed 3 values in column ag\n",
      "Imputed 8 values in column ah\n",
      "Imputed 16 values in column ai\n",
      "Imputed 16 values in column aj\n",
      "Imputed 35 values in column ak\n",
      "Imputed 34 values in column al\n",
      "Imputed 26 values in column am\n",
      "Imputed 12 values in column an\n",
      "Imputed 22 values in column ao\n",
      "Imputed 7 values in column ap\n",
      "Imputed 28 values in column ar\n",
      "0.5705882352941176\n",
      "0.8\n",
      "Column a contained 39 nans before, now 39\n",
      "Column b contained 0 nans before, now 9\n",
      "Column c contained 0 nans before, now 15\n",
      "Column d contained 0 nans before, now 4\n",
      "Column e contained 0 nans before, now 8\n",
      "Column f contained 0 nans before, now 5\n",
      "Column g contained 0 nans before, now 9\n",
      "Column h contained 0 nans before, now 11\n",
      "Column i contained 0 nans before, now 5\n",
      "Column j contained 0 nans before, now 10\n",
      "Column k contained 0 nans before, now 11\n",
      "Column l contained 0 nans before, now 10\n",
      "Column m contained 0 nans before, now 15\n",
      "Column n contained 0 nans before, now 5\n",
      "Column o contained 0 nans before, now 9\n",
      "Column p contained 0 nans before, now 17\n",
      "Column r contained 0 nans before, now 7\n",
      "Column s contained 0 nans before, now 8\n",
      "Column t contained 0 nans before, now 7\n",
      "Column u contained 0 nans before, now 23\n",
      "Column v contained 0 nans before, now 17\n",
      "Column z contained 0 nans before, now 21\n",
      "Column aa contained 0 nans before, now 14\n",
      "Column ab contained 0 nans before, now 25\n",
      "Column ac contained 0 nans before, now 10\n",
      "Column ad contained 0 nans before, now 27\n",
      "Column ae contained 0 nans before, now 33\n",
      "Column af contained 0 nans before, now 15\n",
      "Column ag contained 0 nans before, now 3\n",
      "Column ah contained 0 nans before, now 8\n",
      "Column ai contained 0 nans before, now 16\n",
      "Column aj contained 0 nans before, now 16\n",
      "Column ak contained 0 nans before, now 35\n",
      "Column al contained 0 nans before, now 34\n",
      "Column am contained 0 nans before, now 26\n",
      "Column an contained 0 nans before, now 12\n",
      "Column ao contained 0 nans before, now 22\n",
      "Column ap contained 0 nans before, now 7\n",
      "Column ar contained 0 nans before, now 28\n",
      "0.5764705882352941\n",
      "Imputed 39 values in column a\n",
      "0.7941176470588236\n",
      "Imputed 39 values in column a\n",
      "Imputed 9 values in column b\n",
      "Imputed 15 values in column c\n",
      "Imputed 4 values in column d\n",
      "Imputed 8 values in column e\n",
      "Imputed 5 values in column f\n",
      "Imputed 9 values in column g\n",
      "Imputed 11 values in column h\n",
      "Imputed 5 values in column i\n",
      "Imputed 10 values in column j\n",
      "Imputed 11 values in column k\n",
      "Imputed 10 values in column l\n",
      "Imputed 15 values in column m\n",
      "Imputed 5 values in column n\n",
      "Imputed 9 values in column o\n",
      "Imputed 17 values in column p\n",
      "Imputed 7 values in column r\n",
      "Imputed 8 values in column s\n",
      "Imputed 7 values in column t\n",
      "Imputed 23 values in column u\n",
      "Imputed 17 values in column v\n",
      "Imputed 21 values in column z\n",
      "Imputed 14 values in column aa\n",
      "Imputed 25 values in column ab\n",
      "Imputed 10 values in column ac\n",
      "Imputed 27 values in column ad\n",
      "Imputed 33 values in column ae\n",
      "Imputed 15 values in column af\n",
      "Imputed 3 values in column ag\n",
      "Imputed 8 values in column ah\n",
      "Imputed 16 values in column ai\n",
      "Imputed 16 values in column aj\n",
      "Imputed 35 values in column ak\n",
      "Imputed 34 values in column al\n",
      "Imputed 26 values in column am\n",
      "Imputed 12 values in column an\n",
      "Imputed 22 values in column ao\n",
      "Imputed 7 values in column ap\n",
      "Imputed 28 values in column ar\n",
      "0.5705882352941176\n",
      "0.8\n",
      "Column a contained 38 nans before, now 38\n",
      "Column b contained 0 nans before, now 9\n",
      "Column c contained 0 nans before, now 15\n",
      "Column d contained 0 nans before, now 4\n",
      "Column e contained 0 nans before, now 8\n",
      "Column f contained 0 nans before, now 5\n",
      "Column g contained 0 nans before, now 9\n",
      "Column h contained 0 nans before, now 11\n",
      "Column i contained 0 nans before, now 5\n",
      "Column j contained 0 nans before, now 10\n",
      "Column k contained 0 nans before, now 11\n",
      "Column l contained 0 nans before, now 10\n",
      "Column m contained 0 nans before, now 15\n",
      "Column n contained 0 nans before, now 5\n",
      "Column o contained 0 nans before, now 9\n",
      "Column p contained 0 nans before, now 17\n",
      "Column r contained 0 nans before, now 7\n",
      "Column s contained 0 nans before, now 8\n",
      "Column t contained 0 nans before, now 7\n",
      "Column u contained 0 nans before, now 23\n",
      "Column v contained 0 nans before, now 17\n",
      "Column z contained 0 nans before, now 21\n",
      "Column aa contained 0 nans before, now 14\n",
      "Column ab contained 0 nans before, now 25\n",
      "Column ac contained 0 nans before, now 10\n",
      "Column ad contained 0 nans before, now 27\n",
      "Column ae contained 0 nans before, now 33\n",
      "Column af contained 0 nans before, now 15\n",
      "Column ag contained 0 nans before, now 3\n",
      "Column ah contained 0 nans before, now 8\n",
      "Column ai contained 0 nans before, now 16\n",
      "Column aj contained 0 nans before, now 16\n",
      "Column ak contained 0 nans before, now 35\n",
      "Column al contained 0 nans before, now 34\n",
      "Column am contained 0 nans before, now 26\n",
      "Column an contained 0 nans before, now 12\n",
      "Column ao contained 0 nans before, now 22\n",
      "Column ap contained 0 nans before, now 7\n",
      "Column ar contained 0 nans before, now 28\n",
      "0.5764705882352941\n",
      "Imputed 38 values in column a\n",
      "0.7941176470588236\n",
      "Imputed 38 values in column a\n",
      "Imputed 9 values in column b\n",
      "Imputed 15 values in column c\n",
      "Imputed 4 values in column d\n",
      "Imputed 8 values in column e\n",
      "Imputed 5 values in column f\n",
      "Imputed 9 values in column g\n",
      "Imputed 11 values in column h\n",
      "Imputed 5 values in column i\n",
      "Imputed 10 values in column j\n",
      "Imputed 11 values in column k\n",
      "Imputed 10 values in column l\n",
      "Imputed 15 values in column m\n",
      "Imputed 5 values in column n\n",
      "Imputed 9 values in column o\n",
      "Imputed 17 values in column p\n",
      "Imputed 7 values in column r\n",
      "Imputed 8 values in column s\n",
      "Imputed 7 values in column t\n",
      "Imputed 23 values in column u\n",
      "Imputed 17 values in column v\n",
      "Imputed 21 values in column z\n",
      "Imputed 14 values in column aa\n",
      "Imputed 25 values in column ab\n",
      "Imputed 10 values in column ac\n",
      "Imputed 27 values in column ad\n",
      "Imputed 33 values in column ae\n",
      "Imputed 15 values in column af\n",
      "Imputed 3 values in column ag\n",
      "Imputed 8 values in column ah\n",
      "Imputed 16 values in column ai\n",
      "Imputed 16 values in column aj\n",
      "Imputed 35 values in column ak\n",
      "Imputed 34 values in column al\n",
      "Imputed 26 values in column am\n",
      "Imputed 12 values in column an\n",
      "Imputed 22 values in column ao\n",
      "Imputed 7 values in column ap\n",
      "Imputed 28 values in column ar\n"
     ]
    },
    {
     "name": "stdout",
     "output_type": "stream",
     "text": [
      "0.5705882352941176\n",
      "0.8\n",
      "Column a contained 37 nans before, now 37\n",
      "Column b contained 0 nans before, now 9\n",
      "Column c contained 0 nans before, now 15\n",
      "Column d contained 0 nans before, now 4\n",
      "Column e contained 0 nans before, now 8\n",
      "Column f contained 0 nans before, now 5\n",
      "Column g contained 0 nans before, now 9\n",
      "Column h contained 0 nans before, now 11\n",
      "Column i contained 0 nans before, now 5\n",
      "Column j contained 0 nans before, now 10\n",
      "Column k contained 0 nans before, now 11\n",
      "Column l contained 0 nans before, now 10\n",
      "Column m contained 0 nans before, now 15\n",
      "Column n contained 0 nans before, now 5\n",
      "Column o contained 0 nans before, now 9\n",
      "Column p contained 0 nans before, now 17\n",
      "Column r contained 0 nans before, now 7\n",
      "Column s contained 0 nans before, now 8\n",
      "Column t contained 0 nans before, now 7\n",
      "Column u contained 0 nans before, now 23\n",
      "Column v contained 0 nans before, now 17\n",
      "Column z contained 0 nans before, now 21\n",
      "Column aa contained 0 nans before, now 14\n",
      "Column ab contained 0 nans before, now 25\n",
      "Column ac contained 0 nans before, now 10\n",
      "Column ad contained 0 nans before, now 27\n",
      "Column ae contained 0 nans before, now 33\n",
      "Column af contained 0 nans before, now 15\n",
      "Column ag contained 0 nans before, now 3\n",
      "Column ah contained 0 nans before, now 8\n",
      "Column ai contained 0 nans before, now 16\n",
      "Column aj contained 0 nans before, now 16\n",
      "Column ak contained 0 nans before, now 35\n",
      "Column al contained 0 nans before, now 34\n",
      "Column am contained 0 nans before, now 26\n",
      "Column an contained 0 nans before, now 12\n",
      "Column ao contained 0 nans before, now 22\n",
      "Column ap contained 0 nans before, now 7\n",
      "Column ar contained 0 nans before, now 28\n",
      "0.5764705882352941\n",
      "Imputed 37 values in column a\n",
      "0.7941176470588236\n",
      "Imputed 37 values in column a\n",
      "Imputed 9 values in column b\n",
      "Imputed 15 values in column c\n",
      "Imputed 4 values in column d\n",
      "Imputed 8 values in column e\n",
      "Imputed 5 values in column f\n",
      "Imputed 9 values in column g\n",
      "Imputed 11 values in column h\n",
      "Imputed 5 values in column i\n",
      "Imputed 10 values in column j\n",
      "Imputed 11 values in column k\n",
      "Imputed 10 values in column l\n",
      "Imputed 15 values in column m\n",
      "Imputed 5 values in column n\n",
      "Imputed 9 values in column o\n",
      "Imputed 17 values in column p\n",
      "Imputed 7 values in column r\n",
      "Imputed 8 values in column s\n",
      "Imputed 7 values in column t\n",
      "Imputed 23 values in column u\n",
      "Imputed 17 values in column v\n",
      "Imputed 21 values in column z\n",
      "Imputed 14 values in column aa\n",
      "Imputed 25 values in column ab\n",
      "Imputed 10 values in column ac\n",
      "Imputed 27 values in column ad\n",
      "Imputed 33 values in column ae\n",
      "Imputed 15 values in column af\n",
      "Imputed 3 values in column ag\n",
      "Imputed 8 values in column ah\n",
      "Imputed 16 values in column ai\n",
      "Imputed 16 values in column aj\n",
      "Imputed 35 values in column ak\n",
      "Imputed 34 values in column al\n",
      "Imputed 26 values in column am\n",
      "Imputed 12 values in column an\n",
      "Imputed 22 values in column ao\n",
      "Imputed 7 values in column ap\n",
      "Imputed 28 values in column ar\n",
      "0.5764705882352941\n"
     ]
    }
   ],
   "source": [
    "sklearn_cleaner_results = sklearn_cleaner_evaluator.evaluate(model, 5, *corruptions[:2])"
   ]
  },
  {
   "cell_type": "code",
   "execution_count": 16,
   "metadata": {},
   "outputs": [
    {
     "data": {
      "text/plain": [
       "{'corruption': <jenga.corruptions.numerical.Scaling at 0x13aeed110>,\n",
       " 'cleaner': <jenga.cleaning.cleaners.SklearnCleaner at 0x13afa9550>,\n",
       " 'baseline_score': 0.7999999999999999,\n",
       " 'corrupted_scores': [0.7617647058823529,\n",
       "  0.7617647058823529,\n",
       "  0.7823529411764706,\n",
       "  0.7823529411764706,\n",
       "  0.7617647058823529],\n",
       " 'score_with_anomaly_removal': array([], dtype=float64),\n",
       " 'score_with_imputation': [0.7617647058823529,\n",
       "  0.7617647058823529,\n",
       "  0.7823529411764706,\n",
       "  0.7823529411764706,\n",
       "  0.7617647058823529],\n",
       " 'score_with_cleaning': [0.5764705882352941,\n",
       "  0.5764705882352941,\n",
       "  0.5764705882352941,\n",
       "  0.5764705882352941,\n",
       "  0.5764705882352941]}"
      ]
     },
     "execution_count": 16,
     "metadata": {},
     "output_type": "execute_result"
    }
   ],
   "source": [
    "sklearn_cleaner_results[0].__dict__"
   ]
  }
 ],
 "metadata": {
  "kernelspec": {
   "display_name": "Python 3",
   "language": "python",
   "name": "python3"
  },
  "language_info": {
   "codemirror_mode": {
    "name": "ipython",
    "version": 3
   },
   "file_extension": ".py",
   "mimetype": "text/x-python",
   "name": "python",
   "nbconvert_exporter": "python",
   "pygments_lexer": "ipython3",
   "version": "3.7.8"
  }
 },
 "nbformat": 4,
 "nbformat_minor": 4
}

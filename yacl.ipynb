{
 "cells": [
  {
   "cell_type": "code",
   "execution_count": null,
   "metadata": {},
   "outputs": [],
   "source": [
    "%load_ext autoreload\n",
    "%autoreload 2\n",
    "\n",
    "from jenga.tasks.openml import OpenMLTask\n",
    "from jenga.cleaning.cleaners import AutoGluonCleaner, SklearnCleaner\n",
    "from jenga.corruptions.numerical import Scaling\n",
    "from jenga.corruptions.generic import MissingValues\n",
    "from jenga.evaluation.autocleaning import AutoCleaningEvaluator\n",
    "import numpy as np"
   ]
  },
  {
   "cell_type": "code",
   "execution_count": null,
   "metadata": {},
   "outputs": [],
   "source": [
    "from sklearn.datasets import load_iris\n",
    "import pandas as pd\n",
    "X, y = load_iris( return_X_y=True)\n",
    "df = pd.DataFrame(X)\n",
    "df['label'] = y\n",
    "df"
   ]
  },
  {
   "cell_type": "code",
   "execution_count": null,
   "metadata": {},
   "outputs": [],
   "source": [
    "from jenga.corruptions.generic import CategoricalShift\n",
    "from sklearn.model_selection import train_test_split\n",
    "\n",
    "df['label'] = df['label'].astype(str)\n",
    "train_df, test_df = train_test_split(df.copy(deep=True), test_size=.5)\n",
    "\n",
    "df_corrupted = CategoricalShift(column='label', fraction=.5, sampling='MNAR').transform(test_df)\n",
    "# df_corrupted[df_corrupted['label']!=test_df['label']]\n",
    "# df_corrupted['label'] = np.nann \n",
    "\n",
    "df_corrupted['label_true'] = test_df['label']\n",
    "\n",
    "df_corrupted"
   ]
  },
  {
   "cell_type": "code",
   "execution_count": null,
   "metadata": {
    "scrolled": true
   },
   "outputs": [],
   "source": [
    "sklearn_cleaner = SklearnCleaner(numeric_columns=[0,1,2,3], \n",
    "                           categorical_columns=['label'],\n",
    "                                categorical_precision_threshold=.9).fit(train_df)\n",
    "\n",
    "# df_outliers_removed = sklearn_cleaner.impute(df_corrupted, columns=['label'])\n",
    "df_outliers_removed = sklearn_cleaner.remove_outliers(df_corrupted, columns=['label'])\n",
    "df_outliers_removed"
   ]
  },
  {
   "cell_type": "code",
   "execution_count": null,
   "metadata": {},
   "outputs": [],
   "source": [
    "debug\n",
    "\n"
   ]
  },
  {
   "cell_type": "code",
   "execution_count": null,
   "metadata": {},
   "outputs": [],
   "source": [
    "# cleaner.fit(task.train_data)\n",
    "# evaluator = AutoCleaningEvaluator(task, cleaner)"
   ]
  },
  {
   "cell_type": "code",
   "execution_count": null,
   "metadata": {},
   "outputs": [],
   "source": [
    "corruptions = []\n",
    "for impacted_column in task.numerical_columns + task.categorical_columns:\n",
    "    for fraction in [0.99, 0.5, 0.25, 0.1, 0.01]:\n",
    "        if impacted_column in task.numerical_columns:\n",
    "            corruptions.append(Scaling(impacted_column, fraction))\n",
    "        for missingness in ['MCAR', 'MAR', 'MNAR']:\n",
    "            corruption = MissingValues(impacted_column, fraction, missingness=missingness, na_value=np.nan)\n",
    "            corruptions.append(corruption)"
   ]
  },
  {
   "cell_type": "code",
   "execution_count": null,
   "metadata": {},
   "outputs": [],
   "source": [
    "task = OpenMLTask(0, openml_id=42261)\n",
    "model = task.fit_baseline_model(task.train_data, task.train_labels)\n",
    "sklearn_cleaner = SklearnCleaner(numeric_columns=task.numerical_columns, \n",
    "                           categorical_columns=task.categorical_columns)\n",
    "# cleaner = AutoGluonCleaner(numeric_columns=task.numerical_columns, \n",
    "#                            categorical_columns=task.categorical_columns)"
   ]
  },
  {
   "cell_type": "code",
   "execution_count": null,
   "metadata": {},
   "outputs": [],
   "source": [
    "sklearn_cleaner.fit(task.train_data)\n",
    "sklearn_cleaner_evaluator = AutoCleaningEvaluator(task, sklearn_cleaner)"
   ]
  },
  {
   "cell_type": "code",
   "execution_count": null,
   "metadata": {},
   "outputs": [],
   "source": [
    "sklearn_cleaner_results = sklearn_cleaner_evaluator.evaluate(model, 5, *corruptions[:2])"
   ]
  },
  {
   "cell_type": "code",
   "execution_count": null,
   "metadata": {},
   "outputs": [],
   "source": [
    "sklearn_cleaner_results[1].__dict__"
   ]
  },
  {
   "cell_type": "code",
   "execution_count": null,
   "metadata": {},
   "outputs": [],
   "source": []
  }
 ],
 "metadata": {
  "kernelspec": {
   "display_name": "Python 3",
   "language": "python",
   "name": "python3"
  },
  "language_info": {
   "codemirror_mode": {
    "name": "ipython",
    "version": 3
   },
   "file_extension": ".py",
   "mimetype": "text/x-python",
   "name": "python",
   "nbconvert_exporter": "python",
   "pygments_lexer": "ipython3",
   "version": "3.7.8"
  }
 },
 "nbformat": 4,
 "nbformat_minor": 4
}

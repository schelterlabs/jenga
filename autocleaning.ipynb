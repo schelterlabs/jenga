{
 "cells": [
  {
   "cell_type": "code",
   "execution_count": 18,
   "metadata": {},
   "outputs": [
    {
     "name": "stdout",
     "output_type": "stream",
     "text": [
      "The autoreload extension is already loaded. To reload it, use:\n",
      "  %reload_ext autoreload\n"
     ]
    }
   ],
   "source": [
    "%load_ext autoreload\n",
    "%autoreload 2\n",
    "\n",
    "from jenga.tasks.openml import OpenMLTask\n",
    "from jenga.cleaning.cleaners import AutoGluonCleaner, SklearnCleaner\n",
    "from jenga.corruptions.numerical import Scaling\n",
    "from jenga.corruptions.generic import MissingValues\n",
    "from jenga.evaluation.autocleaning import AutoCleaningEvaluator\n",
    "from jenga.cleaning.cleaners import PyODKNNSingleColumnCleaner, PyODKNNMultiColumnCleaner\n",
    "import numpy as np\n",
    "import random"
   ]
  },
  {
   "cell_type": "code",
   "execution_count": 2,
   "metadata": {},
   "outputs": [
    {
     "name": "stderr",
     "output_type": "stream",
     "text": [
      "Data pickle file already exists and is up to date.\n"
     ]
    },
    {
     "name": "stdout",
     "output_type": "stream",
     "text": [
      "Found 0 categorical columns: []\n",
      "Found 39 numeric columns: ['a', 'b', 'c', 'd', 'e', 'f', 'g', 'h', 'i', 'j', 'k', 'l', 'm', 'n', 'o', 'p', 'r', 's', 't', 'u', 'v', 'z', 'aa', 'ab', 'ac', 'ad', 'ae', 'af', 'ag', 'ah', 'ai', 'aj', 'ak', 'al', 'am', 'an', 'ao', 'ap', 'ar']\n",
      "Fitting 5 folds for each of 3 candidates, totalling 15 fits\n"
     ]
    },
    {
     "name": "stderr",
     "output_type": "stream",
     "text": [
      "[Parallel(n_jobs=-1)]: Using backend LokyBackend with 8 concurrent workers.\n",
      "[Parallel(n_jobs=-1)]: Done  15 out of  15 | elapsed:    1.6s finished\n"
     ]
    }
   ],
   "source": [
    "task = OpenMLTask(42261)\n",
    "model = task.fit_baseline_model(task.train_data, task.train_labels)"
   ]
  },
  {
   "cell_type": "code",
   "execution_count": 25,
   "metadata": {},
   "outputs": [],
   "source": [
    "corruptions = []\n",
    "random_cols = random.sample(task.numerical_columns + \\\n",
    "                             task.categorical_columns, 5)\n",
    "for impacted_column in random_cols:\n",
    "    for fraction in [0.99, 0.5, 0.1]:\n",
    "        if impacted_column in task.numerical_columns:\n",
    "            corruptions.append(Scaling(impacted_column, fraction))\n",
    "        for missingness in ['MCAR', 'MAR', 'MNAR']:\n",
    "            corruption = MissingValues(impacted_column, fraction, missingness=missingness, na_value=np.nan)\n",
    "            corruptions.append(corruption)"
   ]
  },
  {
   "cell_type": "code",
   "execution_count": 34,
   "metadata": {},
   "outputs": [
    {
     "name": "stdout",
     "output_type": "stream",
     "text": [
      "Evaluation 0/120 (0.17411899999999036s)\n",
      "Evaluation 10/120 (2.042488999999989s)\n",
      "Evaluation 20/120 (3.896948999999978s)\n",
      "Evaluation 30/120 (5.67227699999998s)\n",
      "Evaluation 40/120 (7.4700579999999945s)\n",
      "Evaluation 50/120 (9.190502999999978s)\n",
      "Evaluation 60/120 (10.880720999999994s)\n",
      "Evaluation 70/120 (12.739926999999994s)\n",
      "Evaluation 80/120 (14.561299999999989s)\n",
      "Evaluation 90/120 (16.536977999999976s)\n",
      "Evaluation 100/120 (18.426736999999974s)\n",
      "Evaluation 110/120 (20.338844999999992s)\n",
      "Evaluation 0/120 (0.016889999999989413s)\n",
      "Evaluation 10/120 (0.18488499999997998s)\n",
      "Evaluation 20/120 (0.4082129999999893s)\n",
      "Evaluation 30/120 (0.5895119999999849s)\n",
      "Evaluation 40/120 (0.7591859999999997s)\n",
      "Evaluation 50/120 (0.9150789999999915s)\n",
      "Evaluation 60/120 (1.0774849999999958s)\n",
      "Evaluation 70/120 (1.2346849999999847s)\n",
      "Evaluation 80/120 (1.397559000000001s)\n",
      "Evaluation 90/120 (1.5570769999999925s)\n",
      "Evaluation 100/120 (1.722894999999994s)\n",
      "Evaluation 110/120 (1.883090999999979s)\n"
     ]
    }
   ],
   "source": [
    "cleaners = [\n",
    "    PyODKNNSingleColumnCleaner(numeric_columns=task.numerical_columns,\n",
    "                               categorical_columns=task.categorical_columns),\n",
    "    PyODKNNMultiColumnCleaner(numeric_columns=task.numerical_columns,\n",
    "                               categorical_columns=task.categorical_columns)\n",
    "]\n",
    "\n",
    "results = []\n",
    "for c in cleaners:\n",
    "    c.fit(task.train_data)\n",
    "    evaluator = AutoCleaningEvaluator(task, c)\n",
    "    results.append(evaluator.evaluate(model, 2, *corruptions))\n"
   ]
  }
 ],
 "metadata": {
  "kernelspec": {
   "display_name": "Python 3",
   "language": "python",
   "name": "python3"
  },
  "language_info": {
   "codemirror_mode": {
    "name": "ipython",
    "version": 3
   },
   "file_extension": ".py",
   "mimetype": "text/x-python",
   "name": "python",
   "nbconvert_exporter": "python",
   "pygments_lexer": "ipython3",
   "version": "3.7.8"
  }
 },
 "nbformat": 4,
 "nbformat_minor": 4
}
